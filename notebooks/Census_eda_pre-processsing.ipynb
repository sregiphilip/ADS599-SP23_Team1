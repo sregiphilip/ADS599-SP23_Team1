{
 "cells": [
  {
   "cell_type": "markdown",
   "id": "9dcd13d5",
   "metadata": {},
   "source": [
    "# Classifying Non Profit Donor Strategy from Cultivating Volunteers\n"
   ]
  },
  {
   "cell_type": "markdown",
   "id": "9e7f3cc0",
   "metadata": {},
   "source": [
    "## EDA and Pre-Processing"
   ]
  },
  {
   "cell_type": "markdown",
   "id": "29838166",
   "metadata": {},
   "source": [
    "**Sanjay Regi Philip and Maha Jayapal**\n",
    "\n",
    "**Applied Data Science**\n",
    "\n",
    "**Master’s Program**\n",
    "\n",
    "**Shiley Marcos School of Engineering/ University of San Diego**\n",
    "\n",
    "**sregiphilip@sandiego.edu | mjayapal@sandiego.edu**"
   ]
  },
  {
   "cell_type": "markdown",
   "id": "2dd709b1",
   "metadata": {},
   "source": [
    "### Purpose:\n",
    "The purpose of this analytical research project is to leverage non profit volunteer databases to identify individuals who are likely to be high-level donors.\n",
    "As volunteer and donor data is highly sensitive information and a prized asset of non profit organizations, this research project uses data that is freely available and provided by the United States census which will need to be processed to only include features relevant for the topic of this research project."
   ]
  },
  {
   "cell_type": "markdown",
   "id": "b9598bdf",
   "metadata": {},
   "source": [
    "### Data Retrieved from: \n",
    "\n",
    "https://archive.ics.uci.edu/ml/datasets/census+income "
   ]
  },
  {
   "cell_type": "markdown",
   "id": "c1cd5f72",
   "metadata": {},
   "source": [
    "## Load Necessary Packages"
   ]
  },
  {
   "cell_type": "code",
   "execution_count": 56,
   "id": "f0d8c028",
   "metadata": {},
   "outputs": [],
   "source": [
    "import pandas as pd\n",
    "import numpy as np \n",
    "import seaborn as sns\n",
    "\n",
    "from sklearn.model_selection import train_test_split\n",
    "\n",
    "import matplotlib.pyplot as plt"
   ]
  },
  {
   "cell_type": "markdown",
   "id": "c2015b23",
   "metadata": {},
   "source": [
    "## Data Input"
   ]
  },
  {
   "cell_type": "code",
   "execution_count": 2,
   "id": "b637063e",
   "metadata": {},
   "outputs": [],
   "source": [
    "## Remember to replace with your local filepath\n",
    "census = pd.read_csv('/Users/sanjay/Library/CloudStorage/OneDrive-Personal/USD/ADS599/Data/census.csv')"
   ]
  },
  {
   "cell_type": "code",
   "execution_count": 3,
   "id": "13607032",
   "metadata": {},
   "outputs": [
    {
     "data": {
      "text/html": [
       "<div>\n",
       "<style scoped>\n",
       "    .dataframe tbody tr th:only-of-type {\n",
       "        vertical-align: middle;\n",
       "    }\n",
       "\n",
       "    .dataframe tbody tr th {\n",
       "        vertical-align: top;\n",
       "    }\n",
       "\n",
       "    .dataframe thead th {\n",
       "        text-align: right;\n",
       "    }\n",
       "</style>\n",
       "<table border=\"1\" class=\"dataframe\">\n",
       "  <thead>\n",
       "    <tr style=\"text-align: right;\">\n",
       "      <th></th>\n",
       "      <th>age</th>\n",
       "      <th>workclass</th>\n",
       "      <th>fnlwgt</th>\n",
       "      <th>education</th>\n",
       "      <th>education-num</th>\n",
       "      <th>marital-status</th>\n",
       "      <th>occupation</th>\n",
       "      <th>relationship</th>\n",
       "      <th>race</th>\n",
       "      <th>sex</th>\n",
       "      <th>capital-gain</th>\n",
       "      <th>capital-loss</th>\n",
       "      <th>hours-per-week</th>\n",
       "      <th>native-country</th>\n",
       "      <th>income</th>\n",
       "    </tr>\n",
       "  </thead>\n",
       "  <tbody>\n",
       "    <tr>\n",
       "      <th>0</th>\n",
       "      <td>25</td>\n",
       "      <td>Private</td>\n",
       "      <td>226802</td>\n",
       "      <td>11th</td>\n",
       "      <td>7</td>\n",
       "      <td>Never-married</td>\n",
       "      <td>Machine-op-inspct</td>\n",
       "      <td>Own-child</td>\n",
       "      <td>Black</td>\n",
       "      <td>Male</td>\n",
       "      <td>0</td>\n",
       "      <td>0</td>\n",
       "      <td>40</td>\n",
       "      <td>United-States</td>\n",
       "      <td>&lt;=50K</td>\n",
       "    </tr>\n",
       "    <tr>\n",
       "      <th>1</th>\n",
       "      <td>38</td>\n",
       "      <td>Private</td>\n",
       "      <td>89814</td>\n",
       "      <td>HS-grad</td>\n",
       "      <td>9</td>\n",
       "      <td>Married-civ-spouse</td>\n",
       "      <td>Farming-fishing</td>\n",
       "      <td>Husband</td>\n",
       "      <td>White</td>\n",
       "      <td>Male</td>\n",
       "      <td>0</td>\n",
       "      <td>0</td>\n",
       "      <td>50</td>\n",
       "      <td>United-States</td>\n",
       "      <td>&lt;=50K</td>\n",
       "    </tr>\n",
       "    <tr>\n",
       "      <th>2</th>\n",
       "      <td>28</td>\n",
       "      <td>Local-gov</td>\n",
       "      <td>336951</td>\n",
       "      <td>Assoc-acdm</td>\n",
       "      <td>12</td>\n",
       "      <td>Married-civ-spouse</td>\n",
       "      <td>Protective-serv</td>\n",
       "      <td>Husband</td>\n",
       "      <td>White</td>\n",
       "      <td>Male</td>\n",
       "      <td>0</td>\n",
       "      <td>0</td>\n",
       "      <td>40</td>\n",
       "      <td>United-States</td>\n",
       "      <td>&gt;50K</td>\n",
       "    </tr>\n",
       "    <tr>\n",
       "      <th>3</th>\n",
       "      <td>44</td>\n",
       "      <td>Private</td>\n",
       "      <td>160323</td>\n",
       "      <td>Some-college</td>\n",
       "      <td>10</td>\n",
       "      <td>Married-civ-spouse</td>\n",
       "      <td>Machine-op-inspct</td>\n",
       "      <td>Husband</td>\n",
       "      <td>Black</td>\n",
       "      <td>Male</td>\n",
       "      <td>7688</td>\n",
       "      <td>0</td>\n",
       "      <td>40</td>\n",
       "      <td>United-States</td>\n",
       "      <td>&gt;50K</td>\n",
       "    </tr>\n",
       "    <tr>\n",
       "      <th>4</th>\n",
       "      <td>18</td>\n",
       "      <td>?</td>\n",
       "      <td>103497</td>\n",
       "      <td>Some-college</td>\n",
       "      <td>10</td>\n",
       "      <td>Never-married</td>\n",
       "      <td>?</td>\n",
       "      <td>Own-child</td>\n",
       "      <td>White</td>\n",
       "      <td>Female</td>\n",
       "      <td>0</td>\n",
       "      <td>0</td>\n",
       "      <td>30</td>\n",
       "      <td>United-States</td>\n",
       "      <td>&lt;=50K</td>\n",
       "    </tr>\n",
       "  </tbody>\n",
       "</table>\n",
       "</div>"
      ],
      "text/plain": [
       "   age  workclass  fnlwgt     education  education-num      marital-status  \\\n",
       "0   25    Private  226802          11th              7       Never-married   \n",
       "1   38    Private   89814       HS-grad              9  Married-civ-spouse   \n",
       "2   28  Local-gov  336951    Assoc-acdm             12  Married-civ-spouse   \n",
       "3   44    Private  160323  Some-college             10  Married-civ-spouse   \n",
       "4   18          ?  103497  Some-college             10       Never-married   \n",
       "\n",
       "          occupation relationship   race     sex  capital-gain  capital-loss  \\\n",
       "0  Machine-op-inspct    Own-child  Black    Male             0             0   \n",
       "1    Farming-fishing      Husband  White    Male             0             0   \n",
       "2    Protective-serv      Husband  White    Male             0             0   \n",
       "3  Machine-op-inspct      Husband  Black    Male          7688             0   \n",
       "4                  ?    Own-child  White  Female             0             0   \n",
       "\n",
       "   hours-per-week native-country income  \n",
       "0              40  United-States  <=50K  \n",
       "1              50  United-States  <=50K  \n",
       "2              40  United-States   >50K  \n",
       "3              40  United-States   >50K  \n",
       "4              30  United-States  <=50K  "
      ]
     },
     "execution_count": 3,
     "metadata": {},
     "output_type": "execute_result"
    }
   ],
   "source": [
    "## Verify data was read correctly\n",
    "census.head(5)"
   ]
  },
  {
   "cell_type": "code",
   "execution_count": 4,
   "id": "73aeba0b",
   "metadata": {
    "scrolled": true
   },
   "outputs": [
    {
     "data": {
      "text/plain": [
       "(48842, 15)"
      ]
     },
     "execution_count": 4,
     "metadata": {},
     "output_type": "execute_result"
    }
   ],
   "source": [
    "## Dimensions of Dataset before any processing\n",
    "census.shape"
   ]
  },
  {
   "cell_type": "code",
   "execution_count": 5,
   "id": "39e20896",
   "metadata": {
    "scrolled": false
   },
   "outputs": [
    {
     "data": {
      "text/plain": [
       "age                int64\n",
       "workclass         object\n",
       "fnlwgt             int64\n",
       "education         object\n",
       "education-num      int64\n",
       "marital-status    object\n",
       "occupation        object\n",
       "relationship      object\n",
       "race              object\n",
       "sex               object\n",
       "capital-gain       int64\n",
       "capital-loss       int64\n",
       "hours-per-week     int64\n",
       "native-country    object\n",
       "income            object\n",
       "dtype: object"
      ]
     },
     "execution_count": 5,
     "metadata": {},
     "output_type": "execute_result"
    }
   ],
   "source": [
    "## Verify datatypes of columns in dataset\n",
    "census.dtypes"
   ]
  },
  {
   "cell_type": "markdown",
   "id": "c2fd2c58",
   "metadata": {},
   "source": [
    "## Initial Data Preparation"
   ]
  },
  {
   "cell_type": "markdown",
   "id": "1bbd1baf",
   "metadata": {},
   "source": [
    "### Remove Unnecessary Columns\n",
    "As this project uses a census dataset, features will need to be dropped that are not likely to be available for non profit organizations to use."
   ]
  },
  {
   "cell_type": "code",
   "execution_count": 6,
   "id": "863048d7",
   "metadata": {},
   "outputs": [],
   "source": [
    "## keep copy of original dataframe in case we need to revert back later\n",
    "census_original = census"
   ]
  },
  {
   "cell_type": "code",
   "execution_count": 7,
   "id": "9e739d70",
   "metadata": {},
   "outputs": [],
   "source": [
    "## drop columns that are not likely to be valuable or relevant\n",
    "census = census.drop(columns=['fnlwgt','education-num', 'capital-gain', 'capital-loss', 'hours-per-week',\n",
    "                             'occupation', 'relationship', 'race'])"
   ]
  },
  {
   "cell_type": "markdown",
   "id": "1547d366",
   "metadata": {},
   "source": [
    "### Check for null values"
   ]
  },
  {
   "cell_type": "code",
   "execution_count": 8,
   "id": "31f6a4a0",
   "metadata": {},
   "outputs": [
    {
     "data": {
      "text/plain": [
       "age               0\n",
       "workclass         0\n",
       "education         0\n",
       "marital-status    0\n",
       "sex               0\n",
       "native-country    0\n",
       "income            0\n",
       "dtype: int64"
      ]
     },
     "execution_count": 8,
     "metadata": {},
     "output_type": "execute_result"
    }
   ],
   "source": [
    "census.isna().sum()"
   ]
  },
  {
   "cell_type": "markdown",
   "id": "03c4c278",
   "metadata": {},
   "source": [
    "The dataset seems to have no blank or null values but instead null values have later been observed denoted by '?'."
   ]
  },
  {
   "cell_type": "markdown",
   "id": "9acdabb2",
   "metadata": {},
   "source": [
    "#### Impute '?' values"
   ]
  },
  {
   "cell_type": "code",
   "execution_count": 13,
   "id": "60833488",
   "metadata": {},
   "outputs": [
    {
     "data": {
      "text/plain": [
       "workclass         2799\n",
       "education            0\n",
       "marital-status       0\n",
       "sex                  0\n",
       "native-country     857\n",
       "income               0\n",
       "dtype: int64"
      ]
     },
     "execution_count": 13,
     "metadata": {},
     "output_type": "execute_result"
    }
   ],
   "source": [
    "## identify records with a '?' null value\n",
    "census_string = census[['workclass', 'education', 'marital-status',\n",
    "                       'sex', 'native-country', 'income']]\n",
    "\n",
    "question_counts = census_string.apply(lambda x: x.str.count('\\?')).sum()\n",
    "question_counts"
   ]
  },
  {
   "cell_type": "markdown",
   "id": "be3bb8d5",
   "metadata": {},
   "source": [
    "As the number of '?' values were relatively low compared to the length of the dataframe, we choose to drop the rows where there is a '?' value as there is no other clear way to impute the value."
   ]
  },
  {
   "cell_type": "code",
   "execution_count": 15,
   "id": "07caad87",
   "metadata": {},
   "outputs": [],
   "source": [
    "## drop '?' values\n",
    "census = census.drop(census.loc[census['workclass'] == '?'].index)\n",
    "census = census.drop(census.loc[census['native-country'] == '?'].index)"
   ]
  },
  {
   "cell_type": "code",
   "execution_count": 17,
   "id": "f3cc5304",
   "metadata": {
    "scrolled": true
   },
   "outputs": [
    {
     "data": {
      "text/plain": [
       "(45232, 7)"
      ]
     },
     "execution_count": 17,
     "metadata": {},
     "output_type": "execute_result"
    }
   ],
   "source": [
    "## shape of the dataset after removing the null values\n",
    "census.shape"
   ]
  },
  {
   "cell_type": "markdown",
   "id": "e844f980",
   "metadata": {},
   "source": [
    "3656 rows were dropped to account for null values"
   ]
  },
  {
   "cell_type": "markdown",
   "id": "c834402c",
   "metadata": {},
   "source": [
    "## Exploratory Data Analysis"
   ]
  },
  {
   "cell_type": "markdown",
   "id": "c6a6b402",
   "metadata": {},
   "source": [
    "### Univariate Analysis\n",
    "Explore the properties of each individual feature"
   ]
  },
  {
   "cell_type": "code",
   "execution_count": 24,
   "id": "05f5d64c",
   "metadata": {
    "scrolled": true
   },
   "outputs": [
    {
     "data": {
      "text/plain": [
       "count    45232.000000\n",
       "mean        38.543819\n",
       "std         13.219436\n",
       "min         17.000000\n",
       "25%         28.000000\n",
       "50%         37.000000\n",
       "75%         47.000000\n",
       "max         90.000000\n",
       "Name: age, dtype: float64"
      ]
     },
     "execution_count": 24,
     "metadata": {},
     "output_type": "execute_result"
    }
   ],
   "source": [
    "age = census['age']\n",
    "age.describe()"
   ]
  },
  {
   "cell_type": "code",
   "execution_count": 25,
   "id": "966b3c1d",
   "metadata": {},
   "outputs": [
    {
     "data": {
      "text/plain": [
       "array([[<AxesSubplot: title={'center': 'age'}>]], dtype=object)"
      ]
     },
     "execution_count": 25,
     "metadata": {},
     "output_type": "execute_result"
    },
    {
     "data": {
      "image/png": "[encoded data removed]",
      "text/plain": [
       "<Figure size 640x480 with 1 Axes>"
      ]
     },
     "metadata": {},
     "output_type": "display_data"
    }
   ],
   "source": [
    "census.hist(column='age')"
   ]
  },
  {
   "cell_type": "markdown",
   "id": "2f3e0c1d",
   "metadata": {},
   "source": [
    "This analysis shows that the individuals in the given dataset has a mean of 38.54 years old and a range of 17-90 years old. The histogram additionally shows a right skew with a large proportion of the individuals on the younger side of the range with the 50% percentile at 37 years old."
   ]
  },
  {
   "cell_type": "markdown",
   "id": "4e407d16",
   "metadata": {},
   "source": [
    "#### Income"
   ]
  },
  {
   "cell_type": "code",
   "execution_count": 26,
   "id": "72d823f3",
   "metadata": {},
   "outputs": [],
   "source": [
    "## This project will be using income as the indicator for if someone is likely to be a mid-level or high-level donor\n",
    "census['income'] = census['income'].replace({'<=50K': 'Mid-Level', '>50K': 'High-Level'})"
   ]
  },
  {
   "cell_type": "code",
   "execution_count": 27,
   "id": "1b59b227",
   "metadata": {},
   "outputs": [
    {
     "name": "stdout",
     "output_type": "stream",
     "text": [
      "Mid-Level     34024\n",
      "High-Level    11208\n",
      "Name: income, dtype: int64\n"
     ]
    },
    {
     "data": {
      "image/png": "[encoded data removed]",
      "text/plain": [
       "<Figure size 640x480 with 1 Axes>"
      ]
     },
     "metadata": {},
     "output_type": "display_data"
    }
   ],
   "source": [
    "income_counts = census['income'].value_counts()\n",
    "\n",
    "print(census['income'].value_counts())\n",
    "\n",
    "income_counts.plot.bar()\n",
    "\n",
    "plt.show()"
   ]
  },
  {
   "cell_type": "code",
   "execution_count": 28,
   "id": "5cd6901b",
   "metadata": {},
   "outputs": [
    {
     "data": {
      "text/plain": [
       "0.75"
      ]
     },
     "execution_count": 28,
     "metadata": {},
     "output_type": "execute_result"
    }
   ],
   "source": [
    "count_mid = (census['income'] == 'Mid-Level').sum()\n",
    "\n",
    "prop_mid = count_mid / len(census['income'])\n",
    "\n",
    "round(prop_mid,2)"
   ]
  },
  {
   "cell_type": "markdown",
   "id": "20491d66",
   "metadata": {},
   "source": [
    "This dataset appears to be constructed with 75% of individuals being classified under the Mid-Level donor definition. This means that the target class of High-Level will be a minority class in this analysis and that there is a class imbalance that must be considered for this analysis."
   ]
  },
  {
   "cell_type": "markdown",
   "id": "83549396",
   "metadata": {},
   "source": [
    "#### Workclass"
   ]
  },
  {
   "cell_type": "code",
   "execution_count": 30,
   "id": "f2f53ef3",
   "metadata": {},
   "outputs": [
    {
     "name": "stdout",
     "output_type": "stream",
     "text": [
      "Private             33307\n",
      "Self-emp-not-inc     3796\n",
      "Local-gov            3100\n",
      "State-gov            1946\n",
      "Self-emp-inc         1646\n",
      "Federal-gov          1406\n",
      "Without-pay            21\n",
      "Never-worked           10\n",
      "Name: workclass, dtype: int64\n"
     ]
    },
    {
     "data": {
      "image/png": "[encoded data removed]",
      "text/plain": [
       "<Figure size 640x480 with 1 Axes>"
      ]
     },
     "metadata": {},
     "output_type": "display_data"
    }
   ],
   "source": [
    "workclass_counts = census['workclass'].value_counts()\n",
    "\n",
    "print(census['workclass'].value_counts())\n",
    "\n",
    "workclass_counts.plot.bar()\n",
    "\n",
    "plt.show()"
   ]
  },
  {
   "cell_type": "code",
   "execution_count": 31,
   "id": "c6713284",
   "metadata": {},
   "outputs": [
    {
     "data": {
      "text/plain": [
       "0.74"
      ]
     },
     "execution_count": 31,
     "metadata": {},
     "output_type": "execute_result"
    }
   ],
   "source": [
    "count_priv = (census['workclass'] == 'Private').sum()\n",
    "\n",
    "count_priv\n",
    "\n",
    "prop_priv = count_priv / len(census['workclass'])\n",
    "\n",
    "round(prop_priv,2)"
   ]
  },
  {
   "cell_type": "markdown",
   "id": "4ba87b17",
   "metadata": {},
   "source": [
    "About 74% of individuals in this analysis work as part of the private sector again showing another class imbalance. There also appears to be many different categories of work class that are fairly similar (government jobs, not currently working, etc) which can probably be combined together."
   ]
  },
  {
   "cell_type": "markdown",
   "id": "635b83f4",
   "metadata": {},
   "source": [
    "#### Marital Status"
   ]
  },
  {
   "cell_type": "code",
   "execution_count": 32,
   "id": "25f1ff15",
   "metadata": {},
   "outputs": [
    {
     "name": "stdout",
     "output_type": "stream",
     "text": [
      "Married-civ-spouse       21056\n",
      "Never-married            14605\n",
      "Divorced                  6298\n",
      "Separated                 1411\n",
      "Widowed                   1277\n",
      "Married-spouse-absent      553\n",
      "Married-AF-spouse           32\n",
      "Name: marital-status, dtype: int64\n"
     ]
    },
    {
     "data": {
      "image/png": "[encoded data removed]",
      "text/plain": [
       "<Figure size 640x480 with 1 Axes>"
      ]
     },
     "metadata": {},
     "output_type": "display_data"
    }
   ],
   "source": [
    "counts = census['marital-status'].value_counts()\n",
    "\n",
    "print(census['marital-status'].value_counts())\n",
    "\n",
    "counts.plot.bar()\n",
    "\n",
    "plt.show()"
   ]
  },
  {
   "cell_type": "markdown",
   "id": "32690bc1",
   "metadata": {},
   "source": [
    "Similar to working class, marital status appears to have many categories that can be combined. As is, married with a civilian spouse seems to be the largest class."
   ]
  },
  {
   "cell_type": "markdown",
   "id": "641f1580",
   "metadata": {},
   "source": [
    "#### Sex"
   ]
  },
  {
   "cell_type": "code",
   "execution_count": 33,
   "id": "9bbaf5b0",
   "metadata": {
    "scrolled": true
   },
   "outputs": [
    {
     "name": "stdout",
     "output_type": "stream",
     "text": [
      "Male      30534\n",
      "Female    14698\n",
      "Name: sex, dtype: int64\n"
     ]
    },
    {
     "data": {
      "image/png": "[encoded data removed]",
      "text/plain": [
       "<Figure size 640x480 with 1 Axes>"
      ]
     },
     "metadata": {},
     "output_type": "display_data"
    }
   ],
   "source": [
    "counts = census['sex'].value_counts()\n",
    "\n",
    "print(census['sex'].value_counts())\n",
    "\n",
    "counts.plot.bar()\n",
    "\n",
    "plt.show()"
   ]
  },
  {
   "cell_type": "code",
   "execution_count": 34,
   "id": "5ce98b1a",
   "metadata": {},
   "outputs": [
    {
     "data": {
      "text/plain": [
       "0.68"
      ]
     },
     "execution_count": 34,
     "metadata": {},
     "output_type": "execute_result"
    }
   ],
   "source": [
    "count = (census['sex'] == 'Male').sum()\n",
    "\n",
    "prop = count / len(census['sex'])\n",
    "\n",
    "round(prop,2)"
   ]
  },
  {
   "cell_type": "markdown",
   "id": "443e12fd",
   "metadata": {},
   "source": [
    "68% of individuals in this dataset are Male which shows another class imbalance as it comes to the sex of individuas in this dataset."
   ]
  },
  {
   "cell_type": "markdown",
   "id": "53143de0",
   "metadata": {},
   "source": [
    "#### Native Country"
   ]
  },
  {
   "cell_type": "code",
   "execution_count": 35,
   "id": "46939588",
   "metadata": {},
   "outputs": [
    {
     "data": {
      "text/plain": [
       "0.91"
      ]
     },
     "execution_count": 35,
     "metadata": {},
     "output_type": "execute_result"
    }
   ],
   "source": [
    "count = (census['native-country'] == 'United-States').sum()\n",
    "\n",
    "prop = count / len(census['native-country'])\n",
    "\n",
    "round(prop,2)"
   ]
  },
  {
   "cell_type": "markdown",
   "id": "b6a34c7b",
   "metadata": {},
   "source": [
    "There are many different native countries for individuals in this dataset but the vast majority of individuals are from the United States compromising 91% of individuals in the dataset."
   ]
  },
  {
   "cell_type": "markdown",
   "id": "68ac854f",
   "metadata": {},
   "source": [
    "### Bivariate Analysis"
   ]
  },
  {
   "cell_type": "code",
   "execution_count": 38,
   "id": "f4951368",
   "metadata": {},
   "outputs": [
    {
     "data": {
      "text/plain": [
       "<AxesSubplot: xlabel='sex', ylabel='count'>"
      ]
     },
     "execution_count": 38,
     "metadata": {},
     "output_type": "execute_result"
    },
    {
     "data": {
      "image/png": "[encoded data removed]",
      "text/plain": [
       "<Figure size 640x480 with 1 Axes>"
      ]
     },
     "metadata": {},
     "output_type": "display_data"
    }
   ],
   "source": [
    "## Sex and Income\n",
    "sns.countplot(x='sex', hue='income', data = census)"
   ]
  },
  {
   "cell_type": "markdown",
   "id": "b1491a2f",
   "metadata": {},
   "source": [
    "There appears to be a larger difference in the ratio of high level to mid level individuals for females than there are for males."
   ]
  },
  {
   "cell_type": "code",
   "execution_count": 39,
   "id": "af607193",
   "metadata": {},
   "outputs": [
    {
     "data": {
      "image/png": "[encoded data removed]",
      "text/plain": [
       "<Figure size 640x480 with 1 Axes>"
      ]
     },
     "metadata": {},
     "output_type": "display_data"
    }
   ],
   "source": [
    "## Workclass and Income\n",
    "\n",
    "ax = sns.countplot(x='workclass' , hue='income', data = census)\n",
    "\n",
    "ax.set_xticklabels(ax.get_xticklabels(), rotation=40, ha=\"right\")\n",
    "plt.tight_layout()\n",
    "plt.show()"
   ]
  },
  {
   "cell_type": "markdown",
   "id": "e8841a6b",
   "metadata": {},
   "source": [
    "The self employed work class is the only workclass where there are more high level individuals than there are mid level."
   ]
  },
  {
   "cell_type": "code",
   "execution_count": 40,
   "id": "b6deeabc",
   "metadata": {},
   "outputs": [
    {
     "data": {
      "image/png": "[encoded data removed]",
      "text/plain": [
       "<Figure size 640x480 with 1 Axes>"
      ]
     },
     "metadata": {},
     "output_type": "display_data"
    }
   ],
   "source": [
    "## Marital Status and Income\n",
    "\n",
    "ax = sns.countplot(x='marital-status' , hue='income', data = census)\n",
    "\n",
    "ax.set_xticklabels(ax.get_xticklabels(), rotation=40, ha=\"right\")\n",
    "plt.tight_layout()\n",
    "plt.show()"
   ]
  },
  {
   "cell_type": "markdown",
   "id": "e69b24b3",
   "metadata": {},
   "source": [
    "The married with a civilian spouse marital status class has almost as many high-level individuals as mid level individuals. The other classes have dramatically higher disparities."
   ]
  },
  {
   "cell_type": "markdown",
   "id": "0648399b",
   "metadata": {},
   "source": [
    "## Pre-processing"
   ]
  },
  {
   "cell_type": "markdown",
   "id": "05acd09f",
   "metadata": {},
   "source": [
    "### Normalization and Standardization of Categorical Variables\n",
    "Comibining similar classes in the categorical features that will be used for the analysis in order to make the results more interpretable."
   ]
  },
  {
   "cell_type": "markdown",
   "id": "ac7071fa",
   "metadata": {},
   "source": [
    "#### Marital-Status"
   ]
  },
  {
   "cell_type": "markdown",
   "id": "10a29642",
   "metadata": {},
   "source": [
    "Combining the rows in the marial-status of Married-civ-spouse, Married-spouse-absent, and Married-AF-spouse to Married"
   ]
  },
  {
   "cell_type": "code",
   "execution_count": 42,
   "id": "fb3cb93c",
   "metadata": {
    "scrolled": true
   },
   "outputs": [
    {
     "data": {
      "text/plain": [
       "Married-civ-spouse       21056\n",
       "Never-married            14605\n",
       "Divorced                  6298\n",
       "Separated                 1411\n",
       "Widowed                   1277\n",
       "Married-spouse-absent      553\n",
       "Married-AF-spouse           32\n",
       "Name: marital-status, dtype: int64"
      ]
     },
     "execution_count": 42,
     "metadata": {},
     "output_type": "execute_result"
    }
   ],
   "source": [
    "census['marital-status'].value_counts()"
   ]
  },
  {
   "cell_type": "code",
   "execution_count": 43,
   "id": "5a682868",
   "metadata": {},
   "outputs": [
    {
     "data": {
      "text/plain": [
       "Married          21641\n",
       "Never-married    14605\n",
       "Divorced          6298\n",
       "Separated         1411\n",
       "Widowed           1277\n",
       "Name: marital-status, dtype: int64"
      ]
     },
     "execution_count": 43,
     "metadata": {},
     "output_type": "execute_result"
    }
   ],
   "source": [
    "census['marital-status'] = census['marital-status'].replace({'Married-civ-spouse': 'Married', \n",
    "                                  'Married-spouse-absent': 'Married', \n",
    "                                  'Married-AF-spouse': 'Married'})\n",
    "census['marital-status'].value_counts()"
   ]
  },
  {
   "cell_type": "code",
   "execution_count": 44,
   "id": "fce688d9",
   "metadata": {},
   "outputs": [
    {
     "data": {
      "text/plain": [
       "Single     23591\n",
       "Married    21641\n",
       "Name: marital-status, dtype: int64"
      ]
     },
     "execution_count": 44,
     "metadata": {},
     "output_type": "execute_result"
    }
   ],
   "source": [
    "census['marital-status'] = census['marital-status'].replace({'Never-married': 'Single', \n",
    "                                  'Divorced': 'Single','Separated': 'Single', 'Widowed': 'Single'})\n",
    "census['marital-status'].value_counts()"
   ]
  },
  {
   "cell_type": "markdown",
   "id": "887aedae",
   "metadata": {},
   "source": [
    "We only have two marital status classes which are very similar in frequency in this dataset."
   ]
  },
  {
   "cell_type": "markdown",
   "id": "998a3293",
   "metadata": {},
   "source": [
    "#### Workclass"
   ]
  },
  {
   "cell_type": "code",
   "execution_count": 46,
   "id": "8d659193",
   "metadata": {},
   "outputs": [
    {
     "data": {
      "text/plain": [
       "Private             33307\n",
       "Self-emp-not-inc     3796\n",
       "Local-gov            3100\n",
       "State-gov            1946\n",
       "Self-emp-inc         1646\n",
       "Federal-gov          1406\n",
       "Without-pay            21\n",
       "Never-worked           10\n",
       "Name: workclass, dtype: int64"
      ]
     },
     "execution_count": 46,
     "metadata": {},
     "output_type": "execute_result"
    }
   ],
   "source": [
    "census['workclass'].value_counts()"
   ]
  },
  {
   "cell_type": "code",
   "execution_count": 47,
   "id": "1a620fc0",
   "metadata": {},
   "outputs": [
    {
     "data": {
      "text/plain": [
       "Private       33307\n",
       "Government     6452\n",
       "Self-emp       5442\n",
       "No-income        31\n",
       "Name: workclass, dtype: int64"
      ]
     },
     "execution_count": 47,
     "metadata": {},
     "output_type": "execute_result"
    }
   ],
   "source": [
    "census['workclass'] = census['workclass'].replace({'Local-gov': 'Government', \n",
    "                                                   'Federal-gov': 'Government', \n",
    "                                                   'State-gov': 'Government',\n",
    "                                                   \n",
    "                                                   'Self-emp-not-inc': 'Self-emp',\n",
    "                                                   'Self-emp-inc': 'Self-emp',\n",
    "                                                   \n",
    "                                                   'Without-pay': 'No-income',\n",
    "                                                   'Never-worked': 'No-income',\n",
    "                                                   \n",
    "                                                   '?': 'Unknown'})\n",
    "\n",
    "census['workclass'].value_counts()"
   ]
  },
  {
   "cell_type": "markdown",
   "id": "f9cbdace",
   "metadata": {},
   "source": [
    "With data preparation, the number of classes within workclass was able to be simplified to only 4 classes with Private still being the largest work class."
   ]
  },
  {
   "cell_type": "markdown",
   "id": "111e5156",
   "metadata": {},
   "source": [
    "#### Native Country"
   ]
  },
  {
   "cell_type": "code",
   "execution_count": 48,
   "id": "3962d73e",
   "metadata": {},
   "outputs": [
    {
     "data": {
      "text/plain": [
       "United-States    41302\n",
       "Non-US            3930\n",
       "Name: native-country, dtype: int64"
      ]
     },
     "execution_count": 48,
     "metadata": {},
     "output_type": "execute_result"
    }
   ],
   "source": [
    "census['native-country'] = np.where((census['native-country'] != 'United-States') & \n",
    "                                    (census['native-country'] != '?'), 'Non-US', census['native-country'])\n",
    "\n",
    "census['native-country'] = census['native-country'].replace({'?': 'Unknown'})\n",
    "\n",
    "census['native-country'].value_counts()"
   ]
  },
  {
   "cell_type": "markdown",
   "id": "48c4f376",
   "metadata": {},
   "source": [
    "As the list of different native countries was extremely long but with the United States being the Native Country for the vast majority of individuals, all non-US countries were grouped together to simplify the number of classes."
   ]
  },
  {
   "cell_type": "markdown",
   "id": "f95f3a6a",
   "metadata": {},
   "source": [
    "#### Education"
   ]
  },
  {
   "cell_type": "code",
   "execution_count": 49,
   "id": "3b0f8b42",
   "metadata": {},
   "outputs": [
    {
     "data": {
      "text/plain": [
       "HS-grad         14785\n",
       "Some-college     9901\n",
       "Bachelors        7570\n",
       "Masters          2514\n",
       "Assoc-voc        1959\n",
       "11th             1622\n",
       "Assoc-acdm       1507\n",
       "10th             1225\n",
       "7th-8th           824\n",
       "Prof-school       785\n",
       "9th               676\n",
       "12th              577\n",
       "Doctorate         544\n",
       "5th-6th           449\n",
       "1st-4th           222\n",
       "Preschool          72\n",
       "Name: education, dtype: int64"
      ]
     },
     "execution_count": 49,
     "metadata": {},
     "output_type": "execute_result"
    }
   ],
   "source": [
    "census['education'].value_counts()"
   ]
  },
  {
   "cell_type": "code",
   "execution_count": 50,
   "id": "22c164fa",
   "metadata": {},
   "outputs": [
    {
     "data": {
      "text/plain": [
       "HS             24686\n",
       "Bachelors       7570\n",
       "DNF HS          5667\n",
       "Assoc           3466\n",
       "Masters         2514\n",
       "Prof-school      785\n",
       "Doctorate        544\n",
       "Name: education, dtype: int64"
      ]
     },
     "execution_count": 50,
     "metadata": {},
     "output_type": "execute_result"
    }
   ],
   "source": [
    "census['education'] = census['education'].replace({'10th': 'DNF HS', \n",
    "                                                   '7th-8th': 'DNF HS', \n",
    "                                                   '9th': 'DNF HS',\n",
    "                                                   '11th': 'DNF HS', \n",
    "                                                   '9th': 'DNF HS',\n",
    "                                                   '12th': 'DNF HS', \n",
    "                                                   '5th-6th': 'DNF HS',\n",
    "                                                   '1st-4th': 'DNF HS', \n",
    "                                                   'Preschool': 'DNF HS',\n",
    "                                                  \n",
    "                                                   'HS-grad': 'HS',\n",
    "                                                   'Some-college': 'HS',\n",
    "                                                   \n",
    "                                                   'Assoc-voc': 'Assoc',\n",
    "                                                   'Assoc-acdm': 'Assoc'})\n",
    "\n",
    "census['education'].value_counts()"
   ]
  },
  {
   "cell_type": "markdown",
   "id": "1909af15",
   "metadata": {},
   "source": [
    "The number of education categories in the original dataset was very long and difficult to interpret. To solve for this, we grouped together all the education categories that did not finish high school into DNF HS (Did not finish High School), as we grouped together all individuals who finished high school but not college, and those that completed an associate's degree."
   ]
  },
  {
   "cell_type": "markdown",
   "id": "5fb618aa",
   "metadata": {},
   "source": [
    "### One Hot Encoding\n",
    "Most classification models require that categorical features be hot encoded with a numerical value."
   ]
  },
  {
   "cell_type": "code",
   "execution_count": 51,
   "id": "02bd424d",
   "metadata": {},
   "outputs": [],
   "source": [
    "## saving a new dataframe with one hot encoding for categorical features\n",
    "census_encoded = pd.get_dummies(data=census, columns=['workclass', 'education', 'marital-status', 'sex',\n",
    "                                                     'native-country'])"
   ]
  },
  {
   "cell_type": "code",
   "execution_count": 52,
   "id": "506a81e1",
   "metadata": {},
   "outputs": [
    {
     "data": {
      "text/plain": [
       "Index(['age', 'income', 'workclass_Government', 'workclass_No-income',\n",
       "       'workclass_Private', 'workclass_Self-emp', 'education_Assoc',\n",
       "       'education_Bachelors', 'education_DNF HS', 'education_Doctorate',\n",
       "       'education_HS', 'education_Masters', 'education_Prof-school',\n",
       "       'marital-status_Married', 'marital-status_Single', 'sex_Female',\n",
       "       'sex_Male', 'native-country_Non-US', 'native-country_United-States'],\n",
       "      dtype='object')"
      ]
     },
     "execution_count": 52,
     "metadata": {},
     "output_type": "execute_result"
    }
   ],
   "source": [
    "census_encoded.columns"
   ]
  },
  {
   "cell_type": "code",
   "execution_count": 53,
   "id": "25ae96cb",
   "metadata": {},
   "outputs": [],
   "source": [
    "## must remove one encoded column to avoid multicollinearity due to dummy variable trap\n",
    "census_encoded = census_encoded.drop(columns=['workclass_Private', 'education_HS', \n",
    "                                             'marital-status_Single', 'sex_Male',\n",
    "                                             'native-country_United-States'])"
   ]
  },
  {
   "cell_type": "code",
   "execution_count": 54,
   "id": "ec46e3dd",
   "metadata": {},
   "outputs": [
    {
     "data": {
      "text/html": [
       "<div>\n",
       "<style scoped>\n",
       "    .dataframe tbody tr th:only-of-type {\n",
       "        vertical-align: middle;\n",
       "    }\n",
       "\n",
       "    .dataframe tbody tr th {\n",
       "        vertical-align: top;\n",
       "    }\n",
       "\n",
       "    .dataframe thead th {\n",
       "        text-align: right;\n",
       "    }\n",
       "</style>\n",
       "<table border=\"1\" class=\"dataframe\">\n",
       "  <thead>\n",
       "    <tr style=\"text-align: right;\">\n",
       "      <th></th>\n",
       "      <th>age</th>\n",
       "      <th>income</th>\n",
       "      <th>workclass_Government</th>\n",
       "      <th>workclass_No-income</th>\n",
       "      <th>workclass_Self-emp</th>\n",
       "      <th>education_Assoc</th>\n",
       "      <th>education_Bachelors</th>\n",
       "      <th>education_DNF HS</th>\n",
       "      <th>education_Doctorate</th>\n",
       "      <th>education_Masters</th>\n",
       "      <th>education_Prof-school</th>\n",
       "      <th>marital-status_Married</th>\n",
       "      <th>sex_Female</th>\n",
       "      <th>native-country_Non-US</th>\n",
       "    </tr>\n",
       "  </thead>\n",
       "  <tbody>\n",
       "    <tr>\n",
       "      <th>0</th>\n",
       "      <td>25</td>\n",
       "      <td>Mid-Level</td>\n",
       "      <td>0</td>\n",
       "      <td>0</td>\n",
       "      <td>0</td>\n",
       "      <td>0</td>\n",
       "      <td>0</td>\n",
       "      <td>1</td>\n",
       "      <td>0</td>\n",
       "      <td>0</td>\n",
       "      <td>0</td>\n",
       "      <td>0</td>\n",
       "      <td>0</td>\n",
       "      <td>0</td>\n",
       "    </tr>\n",
       "    <tr>\n",
       "      <th>1</th>\n",
       "      <td>38</td>\n",
       "      <td>Mid-Level</td>\n",
       "      <td>0</td>\n",
       "      <td>0</td>\n",
       "      <td>0</td>\n",
       "      <td>0</td>\n",
       "      <td>0</td>\n",
       "      <td>0</td>\n",
       "      <td>0</td>\n",
       "      <td>0</td>\n",
       "      <td>0</td>\n",
       "      <td>1</td>\n",
       "      <td>0</td>\n",
       "      <td>0</td>\n",
       "    </tr>\n",
       "    <tr>\n",
       "      <th>2</th>\n",
       "      <td>28</td>\n",
       "      <td>High-Level</td>\n",
       "      <td>1</td>\n",
       "      <td>0</td>\n",
       "      <td>0</td>\n",
       "      <td>1</td>\n",
       "      <td>0</td>\n",
       "      <td>0</td>\n",
       "      <td>0</td>\n",
       "      <td>0</td>\n",
       "      <td>0</td>\n",
       "      <td>1</td>\n",
       "      <td>0</td>\n",
       "      <td>0</td>\n",
       "    </tr>\n",
       "    <tr>\n",
       "      <th>3</th>\n",
       "      <td>44</td>\n",
       "      <td>High-Level</td>\n",
       "      <td>0</td>\n",
       "      <td>0</td>\n",
       "      <td>0</td>\n",
       "      <td>0</td>\n",
       "      <td>0</td>\n",
       "      <td>0</td>\n",
       "      <td>0</td>\n",
       "      <td>0</td>\n",
       "      <td>0</td>\n",
       "      <td>1</td>\n",
       "      <td>0</td>\n",
       "      <td>0</td>\n",
       "    </tr>\n",
       "    <tr>\n",
       "      <th>5</th>\n",
       "      <td>34</td>\n",
       "      <td>Mid-Level</td>\n",
       "      <td>0</td>\n",
       "      <td>0</td>\n",
       "      <td>0</td>\n",
       "      <td>0</td>\n",
       "      <td>0</td>\n",
       "      <td>1</td>\n",
       "      <td>0</td>\n",
       "      <td>0</td>\n",
       "      <td>0</td>\n",
       "      <td>0</td>\n",
       "      <td>0</td>\n",
       "      <td>0</td>\n",
       "    </tr>\n",
       "  </tbody>\n",
       "</table>\n",
       "</div>"
      ],
      "text/plain": [
       "   age      income  workclass_Government  workclass_No-income  \\\n",
       "0   25   Mid-Level                     0                    0   \n",
       "1   38   Mid-Level                     0                    0   \n",
       "2   28  High-Level                     1                    0   \n",
       "3   44  High-Level                     0                    0   \n",
       "5   34   Mid-Level                     0                    0   \n",
       "\n",
       "   workclass_Self-emp  education_Assoc  education_Bachelors  education_DNF HS  \\\n",
       "0                   0                0                    0                 1   \n",
       "1                   0                0                    0                 0   \n",
       "2                   0                1                    0                 0   \n",
       "3                   0                0                    0                 0   \n",
       "5                   0                0                    0                 1   \n",
       "\n",
       "   education_Doctorate  education_Masters  education_Prof-school  \\\n",
       "0                    0                  0                      0   \n",
       "1                    0                  0                      0   \n",
       "2                    0                  0                      0   \n",
       "3                    0                  0                      0   \n",
       "5                    0                  0                      0   \n",
       "\n",
       "   marital-status_Married  sex_Female  native-country_Non-US  \n",
       "0                       0           0                      0  \n",
       "1                       1           0                      0  \n",
       "2                       1           0                      0  \n",
       "3                       1           0                      0  \n",
       "5                       0           0                      0  "
      ]
     },
     "execution_count": 54,
     "metadata": {},
     "output_type": "execute_result"
    }
   ],
   "source": [
    "census_encoded.head(5)"
   ]
  },
  {
   "cell_type": "markdown",
   "id": "8098cba3",
   "metadata": {},
   "source": [
    "## Train/ Test Split"
   ]
  },
  {
   "cell_type": "code",
   "execution_count": 59,
   "id": "d3b103d1",
   "metadata": {},
   "outputs": [],
   "source": [
    "train, test = train_test_split(census_encoded, test_size=0.2, random_state=42, stratify=census_encoded['income'])"
   ]
  },
  {
   "cell_type": "code",
   "execution_count": 61,
   "id": "5f3fc9a5",
   "metadata": {},
   "outputs": [
    {
     "data": {
      "text/plain": [
       "(36185, 14)"
      ]
     },
     "execution_count": 61,
     "metadata": {},
     "output_type": "execute_result"
    }
   ],
   "source": [
    "train.shape"
   ]
  },
  {
   "cell_type": "code",
   "execution_count": 62,
   "id": "67d73000",
   "metadata": {},
   "outputs": [
    {
     "data": {
      "text/plain": [
       "(9047, 14)"
      ]
     },
     "execution_count": 62,
     "metadata": {},
     "output_type": "execute_result"
    }
   ],
   "source": [
    "test.shape"
   ]
  }
 ],
 "metadata": {
  "kernelspec": {
   "display_name": "Python 3 (ipykernel)",
   "language": "python",
   "name": "python3"
  },
  "language_info": {
   "codemirror_mode": {
    "name": "ipython",
    "version": 3
   },
   "file_extension": ".py",
   "mimetype": "text/x-python",
   "name": "python",
   "nbconvert_exporter": "python",
   "pygments_lexer": "ipython3",
   "version": "3.9.13"
  }
 },
 "nbformat": 4,
 "nbformat_minor": 5
}
