{
 "cells": [
  {
   "cell_type": "markdown",
   "id": "b64e3c98",
   "metadata": {},
   "source": [
    "# Classifying Non Profit Donor Strategy from Cultivating Volunteers"
   ]
  },
  {
   "cell_type": "markdown",
   "id": "906ee1d3",
   "metadata": {},
   "source": [
    "**Sanjay Regi Philip and Maha Jayapal**\n",
    "\n",
    "**Applied Data Science**\n",
    "\n",
    "**Master’s Program**\n",
    "\n",
    "**Shiley Marcos School of Engineering/ University of San Diego**\n",
    "\n",
    "**sregiphilip@sandiego.edu | mjayapal@sandiego.edu**"
   ]
  },
  {
   "cell_type": "markdown",
   "id": "8654468c",
   "metadata": {},
   "source": [
    "### Purpose:\n",
    "The purpose of this analytical research project is to leverage non profit volunteer databases to identify individuals who are likely to be high-level donors. As volunteer and donor data is highly sensitive information and a prized asset of non profit organizations, this research project uses data that is freely available and provided by the United States census which will need to be processed to only include features relevant for the topic of this research project."
   ]
  },
  {
   "cell_type": "markdown",
   "id": "b9c68a8f",
   "metadata": {},
   "source": [
    "## Data Retrieved from: \n",
    "https://archive.ics.uci.edu/ml/datasets/census+income"
   ]
  },
  {
   "cell_type": "markdown",
   "id": "32dd013f",
   "metadata": {},
   "source": [
    "## Load Necessary Packages"
   ]
  },
  {
   "cell_type": "code",
   "execution_count": 1,
   "id": "87500c33",
   "metadata": {},
   "outputs": [
    {
     "name": "stdout",
     "output_type": "stream",
     "text": [
      "no display found. Using non-interactive Agg backend\n"
     ]
    }
   ],
   "source": [
    "import pandas as pd\n",
    "import numpy as np \n",
    "import seaborn as sns\n",
    "\n",
    "#!pip install dmba\n",
    "import dmba\n",
    "from dmba import classificationSummary, gainsChart, liftChart\n",
    "\n",
    "from sklearn.model_selection import train_test_split\n",
    "from sklearn.metrics import confusion_matrix, accuracy_score, recall_score\n",
    "from sklearn import tree\n",
    "from sklearn.naive_bayes import GaussianNB\n",
    "from sklearn.ensemble import RandomForestClassifier\n",
    "from sklearn.neighbors import KNeighborsClassifier\n",
    "from sklearn.linear_model import LogisticRegression, LogisticRegressionCV\n",
    "\n",
    "from sklearn.datasets import make_blobs\n",
    "from sklearn.model_selection import RepeatedStratifiedKFold\n",
    "from sklearn.model_selection import GridSearchCV\n",
    "from sklearn.linear_model import LogisticRegression\n",
    "\n",
    "%matplotlib inline\n",
    "import matplotlib.pyplot as plt"
   ]
  },
  {
   "cell_type": "markdown",
   "id": "0772b63b",
   "metadata": {},
   "source": [
    "## Data Input"
   ]
  },
  {
   "cell_type": "code",
   "execution_count": 2,
   "id": "98927b64",
   "metadata": {},
   "outputs": [],
   "source": [
    "## Remember to replace with your local filepath\n",
    "census = pd.read_csv('/Users/sanjay/Library/CloudStorage/OneDrive-Personal/USD/ADS599/Data/census.csv')"
   ]
  },
  {
   "cell_type": "code",
   "execution_count": 3,
   "id": "f207e35c",
   "metadata": {},
   "outputs": [],
   "source": [
    "## keep copy of original dataframe in case we need to revert back later\n",
    "census_original = census"
   ]
  },
  {
   "cell_type": "markdown",
   "id": "350fd994",
   "metadata": {},
   "source": [
    "## Data PreProcessing"
   ]
  },
  {
   "cell_type": "code",
   "execution_count": 4,
   "id": "0dd3fe42",
   "metadata": {},
   "outputs": [],
   "source": [
    "## drop columns that are not likely to be valuable or relevant\n",
    "census = census.drop(columns=['fnlwgt','education-num', 'capital-gain', 'capital-loss', 'hours-per-week',\n",
    "                             'occupation', 'relationship', 'race'])"
   ]
  },
  {
   "cell_type": "code",
   "execution_count": 5,
   "id": "dc95b863",
   "metadata": {},
   "outputs": [],
   "source": [
    "## drop '?' values\n",
    "## The census dataset uses '?' in place of null values\n",
    "census = census.drop(census.loc[census['workclass'] == '?'].index)\n",
    "census = census.drop(census.loc[census['native-country'] == '?'].index)"
   ]
  },
  {
   "cell_type": "code",
   "execution_count": 6,
   "id": "40ea9f3c",
   "metadata": {},
   "outputs": [
    {
     "data": {
      "text/plain": [
       "(45232, 7)"
      ]
     },
     "execution_count": 6,
     "metadata": {},
     "output_type": "execute_result"
    }
   ],
   "source": [
    "## shape of the dataset after removing the null values\n",
    "census.shape"
   ]
  },
  {
   "cell_type": "markdown",
   "id": "397073c0",
   "metadata": {},
   "source": [
    "### Encode Target Variable"
   ]
  },
  {
   "cell_type": "code",
   "execution_count": 7,
   "id": "57e7cf1b",
   "metadata": {},
   "outputs": [],
   "source": [
    "## This project will be using income as the indicator for if someone is likely to be a mid-level or high-level donor\n",
    "census['income'] = census['income'].replace({'<=50K': 'Mid-Level', '>50K': 'High-Level'})"
   ]
  },
  {
   "cell_type": "markdown",
   "id": "e3c21896",
   "metadata": {},
   "source": [
    "### Process Categorical Variables"
   ]
  },
  {
   "cell_type": "markdown",
   "id": "5a39c1b4",
   "metadata": {},
   "source": [
    "#### Process Marital Status"
   ]
  },
  {
   "cell_type": "code",
   "execution_count": 8,
   "id": "0fee9170",
   "metadata": {
    "scrolled": true
   },
   "outputs": [
    {
     "data": {
      "text/plain": [
       "Married          21641\n",
       "Never-married    14605\n",
       "Divorced          6298\n",
       "Separated         1411\n",
       "Widowed           1277\n",
       "Name: marital-status, dtype: int64"
      ]
     },
     "execution_count": 8,
     "metadata": {},
     "output_type": "execute_result"
    }
   ],
   "source": [
    "census['marital-status'] = census['marital-status'].replace({'Married-civ-spouse': 'Married', \n",
    "                                  'Married-spouse-absent': 'Married', \n",
    "                                  'Married-AF-spouse': 'Married'})\n",
    "census['marital-status'].value_counts()"
   ]
  },
  {
   "cell_type": "code",
   "execution_count": 9,
   "id": "654bab1d",
   "metadata": {},
   "outputs": [
    {
     "data": {
      "text/plain": [
       "Single     23591\n",
       "Married    21641\n",
       "Name: marital-status, dtype: int64"
      ]
     },
     "execution_count": 9,
     "metadata": {},
     "output_type": "execute_result"
    }
   ],
   "source": [
    "census['marital-status'] = census['marital-status'].replace({'Never-married': 'Single', \n",
    "                                  'Divorced': 'Single','Separated': 'Single', 'Widowed': 'Single'})\n",
    "census['marital-status'].value_counts()"
   ]
  },
  {
   "cell_type": "markdown",
   "id": "ead6ef3a",
   "metadata": {},
   "source": [
    "#### Process Workclass"
   ]
  },
  {
   "cell_type": "code",
   "execution_count": 10,
   "id": "679d87ad",
   "metadata": {},
   "outputs": [
    {
     "data": {
      "text/plain": [
       "Private       33307\n",
       "Government     6452\n",
       "Self-emp       5442\n",
       "No-income        31\n",
       "Name: workclass, dtype: int64"
      ]
     },
     "execution_count": 10,
     "metadata": {},
     "output_type": "execute_result"
    }
   ],
   "source": [
    "census['workclass'] = census['workclass'].replace({'Local-gov': 'Government', \n",
    "                                                   'Federal-gov': 'Government', \n",
    "                                                   'State-gov': 'Government',\n",
    "                                                   \n",
    "                                                   'Self-emp-not-inc': 'Self-emp',\n",
    "                                                   'Self-emp-inc': 'Self-emp',\n",
    "                                                   \n",
    "                                                   'Without-pay': 'No-income',\n",
    "                                                   'Never-worked': 'No-income',\n",
    "                                                   \n",
    "                                                   '?': 'Unknown'})\n",
    "\n",
    "census['workclass'].value_counts()"
   ]
  },
  {
   "cell_type": "markdown",
   "id": "4a6174f6",
   "metadata": {},
   "source": [
    "#### Process Native Country"
   ]
  },
  {
   "cell_type": "code",
   "execution_count": 11,
   "id": "7c6032ae",
   "metadata": {},
   "outputs": [
    {
     "data": {
      "text/plain": [
       "United-States    41302\n",
       "Non-US            3930\n",
       "Name: native-country, dtype: int64"
      ]
     },
     "execution_count": 11,
     "metadata": {},
     "output_type": "execute_result"
    }
   ],
   "source": [
    "census['native-country'] = np.where((census['native-country'] != 'United-States') & \n",
    "                                    (census['native-country'] != '?'), 'Non-US', census['native-country'])\n",
    "\n",
    "census['native-country'] = census['native-country'].replace({'?': 'Unknown'})\n",
    "\n",
    "census['native-country'].value_counts()"
   ]
  },
  {
   "cell_type": "markdown",
   "id": "5fa90f53",
   "metadata": {},
   "source": [
    "#### Process Education"
   ]
  },
  {
   "cell_type": "code",
   "execution_count": 12,
   "id": "183c2b59",
   "metadata": {},
   "outputs": [
    {
     "data": {
      "text/plain": [
       "HS             24686\n",
       "Bachelors       7570\n",
       "DNF HS          5667\n",
       "Assoc           3466\n",
       "Masters         2514\n",
       "Prof-school      785\n",
       "Doctorate        544\n",
       "Name: education, dtype: int64"
      ]
     },
     "execution_count": 12,
     "metadata": {},
     "output_type": "execute_result"
    }
   ],
   "source": [
    "census['education'] = census['education'].replace({'10th': 'DNF HS', \n",
    "                                                   '7th-8th': 'DNF HS', \n",
    "                                                   '9th': 'DNF HS',\n",
    "                                                   '11th': 'DNF HS', \n",
    "                                                   '9th': 'DNF HS',\n",
    "                                                   '12th': 'DNF HS', \n",
    "                                                   '5th-6th': 'DNF HS',\n",
    "                                                   '1st-4th': 'DNF HS', \n",
    "                                                   'Preschool': 'DNF HS',\n",
    "                                                  \n",
    "                                                   'HS-grad': 'HS',\n",
    "                                                   'Some-college': 'HS',\n",
    "                                                   \n",
    "                                                   'Assoc-voc': 'Assoc',\n",
    "                                                   'Assoc-acdm': 'Assoc'})\n",
    "\n",
    "census['education'].value_counts()"
   ]
  },
  {
   "cell_type": "markdown",
   "id": "f0c3279e",
   "metadata": {},
   "source": [
    "### Hot Encode Categorical Features"
   ]
  },
  {
   "cell_type": "code",
   "execution_count": 13,
   "id": "d9b1e439",
   "metadata": {},
   "outputs": [],
   "source": [
    "## saving a new dataframe with one hot encoding for categorical features\n",
    "census_encoded = pd.get_dummies(data=census, columns=['workclass', 'education', 'marital-status', 'sex',\n",
    "                                                     'native-country'])"
   ]
  },
  {
   "cell_type": "code",
   "execution_count": 14,
   "id": "55500ee5",
   "metadata": {},
   "outputs": [],
   "source": [
    "## must remove one encoded column to avoid multicollinearity due to dummy variable trap\n",
    "census_encoded = census_encoded.drop(columns=['workclass_Private', 'education_HS', \n",
    "                                             'marital-status_Single', 'sex_Male',\n",
    "                                             'native-country_United-States'])"
   ]
  },
  {
   "cell_type": "code",
   "execution_count": 15,
   "id": "7627c4b2",
   "metadata": {
    "scrolled": false
   },
   "outputs": [
    {
     "data": {
      "text/html": [
       "<div>\n",
       "<style scoped>\n",
       "    .dataframe tbody tr th:only-of-type {\n",
       "        vertical-align: middle;\n",
       "    }\n",
       "\n",
       "    .dataframe tbody tr th {\n",
       "        vertical-align: top;\n",
       "    }\n",
       "\n",
       "    .dataframe thead th {\n",
       "        text-align: right;\n",
       "    }\n",
       "</style>\n",
       "<table border=\"1\" class=\"dataframe\">\n",
       "  <thead>\n",
       "    <tr style=\"text-align: right;\">\n",
       "      <th></th>\n",
       "      <th>age</th>\n",
       "      <th>income</th>\n",
       "      <th>workclass_Government</th>\n",
       "      <th>workclass_No-income</th>\n",
       "      <th>workclass_Self-emp</th>\n",
       "      <th>education_Assoc</th>\n",
       "      <th>education_Bachelors</th>\n",
       "      <th>education_DNF HS</th>\n",
       "      <th>education_Doctorate</th>\n",
       "      <th>education_Masters</th>\n",
       "      <th>education_Prof-school</th>\n",
       "      <th>marital-status_Married</th>\n",
       "      <th>sex_Female</th>\n",
       "      <th>native-country_Non-US</th>\n",
       "    </tr>\n",
       "  </thead>\n",
       "  <tbody>\n",
       "    <tr>\n",
       "      <th>0</th>\n",
       "      <td>25</td>\n",
       "      <td>Mid-Level</td>\n",
       "      <td>0</td>\n",
       "      <td>0</td>\n",
       "      <td>0</td>\n",
       "      <td>0</td>\n",
       "      <td>0</td>\n",
       "      <td>1</td>\n",
       "      <td>0</td>\n",
       "      <td>0</td>\n",
       "      <td>0</td>\n",
       "      <td>0</td>\n",
       "      <td>0</td>\n",
       "      <td>0</td>\n",
       "    </tr>\n",
       "    <tr>\n",
       "      <th>1</th>\n",
       "      <td>38</td>\n",
       "      <td>Mid-Level</td>\n",
       "      <td>0</td>\n",
       "      <td>0</td>\n",
       "      <td>0</td>\n",
       "      <td>0</td>\n",
       "      <td>0</td>\n",
       "      <td>0</td>\n",
       "      <td>0</td>\n",
       "      <td>0</td>\n",
       "      <td>0</td>\n",
       "      <td>1</td>\n",
       "      <td>0</td>\n",
       "      <td>0</td>\n",
       "    </tr>\n",
       "    <tr>\n",
       "      <th>2</th>\n",
       "      <td>28</td>\n",
       "      <td>High-Level</td>\n",
       "      <td>1</td>\n",
       "      <td>0</td>\n",
       "      <td>0</td>\n",
       "      <td>1</td>\n",
       "      <td>0</td>\n",
       "      <td>0</td>\n",
       "      <td>0</td>\n",
       "      <td>0</td>\n",
       "      <td>0</td>\n",
       "      <td>1</td>\n",
       "      <td>0</td>\n",
       "      <td>0</td>\n",
       "    </tr>\n",
       "    <tr>\n",
       "      <th>3</th>\n",
       "      <td>44</td>\n",
       "      <td>High-Level</td>\n",
       "      <td>0</td>\n",
       "      <td>0</td>\n",
       "      <td>0</td>\n",
       "      <td>0</td>\n",
       "      <td>0</td>\n",
       "      <td>0</td>\n",
       "      <td>0</td>\n",
       "      <td>0</td>\n",
       "      <td>0</td>\n",
       "      <td>1</td>\n",
       "      <td>0</td>\n",
       "      <td>0</td>\n",
       "    </tr>\n",
       "    <tr>\n",
       "      <th>5</th>\n",
       "      <td>34</td>\n",
       "      <td>Mid-Level</td>\n",
       "      <td>0</td>\n",
       "      <td>0</td>\n",
       "      <td>0</td>\n",
       "      <td>0</td>\n",
       "      <td>0</td>\n",
       "      <td>1</td>\n",
       "      <td>0</td>\n",
       "      <td>0</td>\n",
       "      <td>0</td>\n",
       "      <td>0</td>\n",
       "      <td>0</td>\n",
       "      <td>0</td>\n",
       "    </tr>\n",
       "  </tbody>\n",
       "</table>\n",
       "</div>"
      ],
      "text/plain": [
       "   age      income  workclass_Government  workclass_No-income  \\\n",
       "0   25   Mid-Level                     0                    0   \n",
       "1   38   Mid-Level                     0                    0   \n",
       "2   28  High-Level                     1                    0   \n",
       "3   44  High-Level                     0                    0   \n",
       "5   34   Mid-Level                     0                    0   \n",
       "\n",
       "   workclass_Self-emp  education_Assoc  education_Bachelors  education_DNF HS  \\\n",
       "0                   0                0                    0                 1   \n",
       "1                   0                0                    0                 0   \n",
       "2                   0                1                    0                 0   \n",
       "3                   0                0                    0                 0   \n",
       "5                   0                0                    0                 1   \n",
       "\n",
       "   education_Doctorate  education_Masters  education_Prof-school  \\\n",
       "0                    0                  0                      0   \n",
       "1                    0                  0                      0   \n",
       "2                    0                  0                      0   \n",
       "3                    0                  0                      0   \n",
       "5                    0                  0                      0   \n",
       "\n",
       "   marital-status_Married  sex_Female  native-country_Non-US  \n",
       "0                       0           0                      0  \n",
       "1                       1           0                      0  \n",
       "2                       1           0                      0  \n",
       "3                       1           0                      0  \n",
       "5                       0           0                      0  "
      ]
     },
     "execution_count": 15,
     "metadata": {},
     "output_type": "execute_result"
    }
   ],
   "source": [
    "census_encoded.head()"
   ]
  },
  {
   "cell_type": "markdown",
   "id": "dde5ac48",
   "metadata": {},
   "source": [
    "## Modeling"
   ]
  },
  {
   "cell_type": "code",
   "execution_count": 16,
   "id": "2b0ce992",
   "metadata": {},
   "outputs": [],
   "source": [
    "## Train/Split with 20% witheld for testing\n",
    "train, test = train_test_split(census_encoded, test_size=0.2, random_state=42, stratify=census_encoded['income'])\n",
    "\n",
    "## Used for column headers\n",
    "census_X = census_encoded.drop(columns=['income'])\n",
    "\n",
    "X_train = train.drop(columns=['income'])\n",
    "X_test = test.drop(columns=['income'])\n",
    "\n",
    "y_train = train['income']\n",
    "y_test = test['income']"
   ]
  },
  {
   "cell_type": "code",
   "execution_count": 17,
   "id": "06481488",
   "metadata": {},
   "outputs": [],
   "source": [
    "## Target Variable Classes\n",
    "classes = ['High-Level', 'Mid-Level']"
   ]
  },
  {
   "cell_type": "code",
   "execution_count": 18,
   "id": "1cd9b38a",
   "metadata": {
    "scrolled": true
   },
   "outputs": [
    {
     "name": "stdout",
     "output_type": "stream",
     "text": [
      "Shape of training features: (36185, 13)\n",
      "Shape of testing features: (9047, 13)\n",
      "Shape of training label: (36185,)\n",
      "Shape of training label: (9047,)\n"
     ]
    }
   ],
   "source": [
    "print('Shape of training features:', X_train.shape)\n",
    "print('Shape of testing features:', X_test.shape)\n",
    "print('Shape of training label:', y_train.shape)\n",
    "print('Shape of training label:', y_test.shape)"
   ]
  },
  {
   "cell_type": "markdown",
   "id": "b198c6eb",
   "metadata": {},
   "source": [
    "### Model Training and Hyperparameter Training"
   ]
  },
  {
   "cell_type": "markdown",
   "id": "c7725ef4",
   "metadata": {},
   "source": [
    "#### Logistic Regression"
   ]
  },
  {
   "cell_type": "code",
   "execution_count": 111,
   "id": "5d1b59ac",
   "metadata": {},
   "outputs": [
    {
     "name": "stdout",
     "output_type": "stream",
     "text": [
      "Best: 0.810695 using {'penalty': 'l2', 'solver': 'liblinear'}\n",
      "0.810667 (0.004762) with: {'penalty': 'l2', 'solver': 'newton-cg'}\n",
      "0.810557 (0.004630) with: {'penalty': 'l2', 'solver': 'lbfgs'}\n",
      "0.810695 (0.004661) with: {'penalty': 'l2', 'solver': 'liblinear'}\n"
     ]
    }
   ],
   "source": [
    "## Hyperparameter Tuning\n",
    "\n",
    "# define models and parameters\n",
    "model = LogisticRegression(max_iter = 10000000)\n",
    "\n",
    "# hyperparameters\n",
    "solvers = ['newton-cg', 'lbfgs', 'liblinear'] ## default lbfgs\n",
    "penalty = ['l2'] ## default l2\n",
    "\n",
    "# define grid search\n",
    "grid = dict(solver=solvers,penalty=penalty)\n",
    "\n",
    "grid_search = GridSearchCV(estimator=model, param_grid=grid, n_jobs=-1, scoring='accuracy')\n",
    "grid_result = grid_search.fit(X_train, y_train)\n",
    "\n",
    "# summarize results\n",
    "print(\"Best: %f using %s\" % (grid_result.best_score_, grid_result.best_params_))\n",
    "means = grid_result.cv_results_['mean_test_score']\n",
    "stds = grid_result.cv_results_['std_test_score']\n",
    "params = grid_result.cv_results_['params']\n",
    "for mean, stdev, param in zip(means, stds, params):\n",
    "    print(\"%f (%f) with: %r\" % (mean, stdev, param))"
   ]
  },
  {
   "cell_type": "code",
   "execution_count": 54,
   "id": "3221b828",
   "metadata": {},
   "outputs": [
    {
     "data": {
      "text/plain": [
       "LogisticRegressionCV(solver='liblinear')"
      ]
     },
     "execution_count": 54,
     "metadata": {},
     "output_type": "execute_result"
    }
   ],
   "source": [
    "## Save Logistic Regression Model with best hyperparamter performance\n",
    "logit_regCV = LogisticRegressionCV(solver='liblinear', penalty='l2')\n",
    "logit_regCV.fit(X_train, y_train)"
   ]
  },
  {
   "cell_type": "markdown",
   "id": "d62f8c6e",
   "metadata": {},
   "source": [
    "#### Decision Tree"
   ]
  },
  {
   "cell_type": "code",
   "execution_count": 72,
   "id": "e6a1130d",
   "metadata": {},
   "outputs": [
    {
     "name": "stdout",
     "output_type": "stream",
     "text": [
      "Best: 0.816416 using {'criterion': 'gini', 'max_depth': 10, 'min_samples_split': 10}\n",
      "0.801879 (0.006852) with: {'criterion': 'gini', 'max_depth': 5, 'min_samples_split': 2}\n",
      "0.801879 (0.006852) with: {'criterion': 'gini', 'max_depth': 5, 'min_samples_split': 5}\n",
      "0.801879 (0.006852) with: {'criterion': 'gini', 'max_depth': 5, 'min_samples_split': 10}\n",
      "0.816029 (0.005709) with: {'criterion': 'gini', 'max_depth': 10, 'min_samples_split': 2}\n",
      "0.816084 (0.005596) with: {'criterion': 'gini', 'max_depth': 10, 'min_samples_split': 5}\n",
      "0.816416 (0.005678) with: {'criterion': 'gini', 'max_depth': 10, 'min_samples_split': 10}\n",
      "0.800691 (0.004496) with: {'criterion': 'gini', 'max_depth': 20, 'min_samples_split': 2}\n",
      "0.801327 (0.004252) with: {'criterion': 'gini', 'max_depth': 20, 'min_samples_split': 5}\n",
      "0.803427 (0.004112) with: {'criterion': 'gini', 'max_depth': 20, 'min_samples_split': 10}\n",
      "0.801548 (0.006060) with: {'criterion': 'entropy', 'max_depth': 5, 'min_samples_split': 2}\n",
      "0.801548 (0.006060) with: {'criterion': 'entropy', 'max_depth': 5, 'min_samples_split': 5}\n",
      "0.801548 (0.006060) with: {'criterion': 'entropy', 'max_depth': 5, 'min_samples_split': 10}\n",
      "0.815144 (0.005825) with: {'criterion': 'entropy', 'max_depth': 10, 'min_samples_split': 2}\n",
      "0.815144 (0.005729) with: {'criterion': 'entropy', 'max_depth': 10, 'min_samples_split': 5}\n",
      "0.815476 (0.006117) with: {'criterion': 'entropy', 'max_depth': 10, 'min_samples_split': 10}\n",
      "0.800415 (0.004118) with: {'criterion': 'entropy', 'max_depth': 20, 'min_samples_split': 2}\n",
      "0.800636 (0.004240) with: {'criterion': 'entropy', 'max_depth': 20, 'min_samples_split': 5}\n",
      "0.803068 (0.003579) with: {'criterion': 'entropy', 'max_depth': 20, 'min_samples_split': 10}\n"
     ]
    }
   ],
   "source": [
    "# define models and parameters\n",
    "model = tree.DecisionTreeClassifier(random_state=1)\n",
    "\n",
    "# hyperparameters\n",
    "criterion = ['gini', 'entropy'] ## default gini\n",
    "max_depth = [None, 5, 10, 20] ## default None\n",
    "min_split = [2,5,10] ## default 2\n",
    "\n",
    "# define grid search\n",
    "grid = dict(criterion=criterion, max_depth=max_depth, min_samples_split=min_split)\n",
    "\n",
    "grid_search = GridSearchCV(estimator=model, param_grid=grid, n_jobs=-1, scoring='accuracy')\n",
    "grid_result = grid_search.fit(X_train, y_train)\n",
    "\n",
    "# summarize results\n",
    "print(\"Best: %f using %s\" % (grid_result.best_score_, grid_result.best_params_))\n",
    "means = grid_result.cv_results_['mean_test_score']\n",
    "stds = grid_result.cv_results_['std_test_score']\n",
    "params = grid_result.cv_results_['params']\n",
    "for mean, stdev, param in zip(means, stds, params):\n",
    "    print(\"%f (%f) with: %r\" % (mean, stdev, param))"
   ]
  },
  {
   "cell_type": "code",
   "execution_count": 73,
   "id": "a9d06829",
   "metadata": {},
   "outputs": [
    {
     "data": {
      "text/plain": [
       "DecisionTreeClassifier(max_depth=10, min_samples_split=10, random_state=1)"
      ]
     },
     "execution_count": 73,
     "metadata": {},
     "output_type": "execute_result"
    }
   ],
   "source": [
    "## Save Decition Tree model with best hyperparamter performance\n",
    "dtc = tree.DecisionTreeClassifier(criterion = 'gini', max_depth = 10, min_samples_split = 10, random_state=1)\n",
    "dtc.fit(X_train, y_train)"
   ]
  },
  {
   "cell_type": "markdown",
   "id": "76cb52e9",
   "metadata": {},
   "source": [
    "#### Random Forest"
   ]
  },
  {
   "cell_type": "markdown",
   "id": "4f461d2e",
   "metadata": {},
   "source": [
    "(n_estimators) and the number of features considered for splitting at each leaf node (max_features)"
   ]
  },
  {
   "cell_type": "code",
   "execution_count": 74,
   "id": "d57bb7f5",
   "metadata": {},
   "outputs": [
    {
     "name": "stdout",
     "output_type": "stream",
     "text": [
      "Best: 0.805444 using {'criterion': 'entropy', 'max_features': None, 'n_estimators': 100}\n",
      "0.804477 (0.004542) with: {'criterion': 'gini', 'max_features': 'sqrt', 'n_estimators': 100}\n",
      "0.803980 (0.004732) with: {'criterion': 'gini', 'max_features': 'sqrt', 'n_estimators': 200}\n",
      "0.804809 (0.004681) with: {'criterion': 'gini', 'max_features': 'sqrt', 'n_estimators': 300}\n",
      "0.804477 (0.004542) with: {'criterion': 'gini', 'max_features': 'log2', 'n_estimators': 100}\n",
      "0.803980 (0.004732) with: {'criterion': 'gini', 'max_features': 'log2', 'n_estimators': 200}\n",
      "0.804809 (0.004681) with: {'criterion': 'gini', 'max_features': 'log2', 'n_estimators': 300}\n",
      "0.805251 (0.005233) with: {'criterion': 'gini', 'max_features': None, 'n_estimators': 100}\n",
      "0.804974 (0.005427) with: {'criterion': 'gini', 'max_features': None, 'n_estimators': 200}\n",
      "0.805361 (0.005311) with: {'criterion': 'gini', 'max_features': None, 'n_estimators': 300}\n",
      "0.804394 (0.004867) with: {'criterion': 'entropy', 'max_features': 'sqrt', 'n_estimators': 100}\n",
      "0.804118 (0.004944) with: {'criterion': 'entropy', 'max_features': 'sqrt', 'n_estimators': 200}\n",
      "0.804698 (0.004755) with: {'criterion': 'entropy', 'max_features': 'sqrt', 'n_estimators': 300}\n",
      "0.804394 (0.004867) with: {'criterion': 'entropy', 'max_features': 'log2', 'n_estimators': 100}\n",
      "0.804118 (0.004944) with: {'criterion': 'entropy', 'max_features': 'log2', 'n_estimators': 200}\n",
      "0.804698 (0.004755) with: {'criterion': 'entropy', 'max_features': 'log2', 'n_estimators': 300}\n",
      "0.805444 (0.005023) with: {'criterion': 'entropy', 'max_features': None, 'n_estimators': 100}\n",
      "0.805057 (0.005274) with: {'criterion': 'entropy', 'max_features': None, 'n_estimators': 200}\n",
      "0.805417 (0.005041) with: {'criterion': 'entropy', 'max_features': None, 'n_estimators': 300}\n"
     ]
    }
   ],
   "source": [
    "# define models and parameters\n",
    "model = RandomForestClassifier(random_state=1)\n",
    "\n",
    "# hyperparameters\n",
    "criterion = ['gini', 'entropy'] ## default gini\n",
    "n_estimators = [100, 200, 300] ## default 100\n",
    "max_features = ['sqrt', 'log2', None] ## default sqrt\n",
    "\n",
    "\n",
    "# define grid search\n",
    "grid = dict(criterion = criterion, n_estimators=n_estimators, max_features=max_features)\n",
    "\n",
    "grid_search = GridSearchCV(estimator=model, param_grid=grid, n_jobs=-1, scoring='accuracy')\n",
    "grid_result = grid_search.fit(X_train, y_train)\n",
    "\n",
    "# summarize results\n",
    "print(\"Best: %f using %s\" % (grid_result.best_score_, grid_result.best_params_))\n",
    "means = grid_result.cv_results_['mean_test_score']\n",
    "stds = grid_result.cv_results_['std_test_score']\n",
    "params = grid_result.cv_results_['params']\n",
    "for mean, stdev, param in zip(means, stds, params):\n",
    "    print(\"%f (%f) with: %r\" % (mean, stdev, param))"
   ]
  },
  {
   "cell_type": "code",
   "execution_count": 75,
   "id": "8f31db14",
   "metadata": {},
   "outputs": [
    {
     "data": {
      "text/plain": [
       "RandomForestClassifier(criterion='entropy', max_features=None, random_state=1)"
      ]
     },
     "execution_count": 75,
     "metadata": {},
     "output_type": "execute_result"
    }
   ],
   "source": [
    "# Building Random Forest model with best performing hyperparameters\n",
    "rf = RandomForestClassifier(criterion = 'entropy', max_features = None, n_estimators = 100, random_state=1)\n",
    "rf.fit(X_train, y_train)"
   ]
  },
  {
   "cell_type": "markdown",
   "id": "c7e7a56b",
   "metadata": {},
   "source": [
    "#### Naive Bayes"
   ]
  },
  {
   "cell_type": "code",
   "execution_count": 77,
   "id": "a6e09273",
   "metadata": {},
   "outputs": [
    {
     "name": "stdout",
     "output_type": "stream",
     "text": [
      "Best: 0.781677 using {'var_smoothing': 1e-08}\n",
      "0.781677 (0.016651) with: {'var_smoothing': 1e-08}\n",
      "0.773525 (0.032578) with: {'var_smoothing': 1e-09}\n",
      "0.764046 (0.051395) with: {'var_smoothing': 1e-10}\n"
     ]
    }
   ],
   "source": [
    "# define models and parameters\n",
    "model = GaussianNB()\n",
    "\n",
    "# hyperparameters\n",
    "var_smoothing = [0.00000001, 0.000000001, 0.0000000001] ## default 1e-9\n",
    "\n",
    "\n",
    "# define grid search\n",
    "grid = dict(var_smoothing = var_smoothing)\n",
    "\n",
    "grid_search = GridSearchCV(estimator=model, param_grid=grid, n_jobs=-1, scoring='accuracy')\n",
    "grid_result = grid_search.fit(X_train, y_train)\n",
    "\n",
    "# summarize results\n",
    "print(\"Best: %f using %s\" % (grid_result.best_score_, grid_result.best_params_))\n",
    "means = grid_result.cv_results_['mean_test_score']\n",
    "stds = grid_result.cv_results_['std_test_score']\n",
    "params = grid_result.cv_results_['params']\n",
    "for mean, stdev, param in zip(means, stds, params):\n",
    "    print(\"%f (%f) with: %r\" % (mean, stdev, param))"
   ]
  },
  {
   "cell_type": "code",
   "execution_count": 78,
   "id": "38585bac",
   "metadata": {},
   "outputs": [
    {
     "data": {
      "text/plain": [
       "GaussianNB(var_smoothing=1e-08)"
      ]
     },
     "execution_count": 78,
     "metadata": {},
     "output_type": "execute_result"
    }
   ],
   "source": [
    "# Building Naive Bayes model with best performing hyperparameters\n",
    "nb = GaussianNB(var_smoothing =1e-08)\n",
    "nb.fit(X_train, y_train)"
   ]
  },
  {
   "cell_type": "markdown",
   "id": "774bbec0",
   "metadata": {},
   "source": [
    "#### KNN"
   ]
  },
  {
   "cell_type": "code",
   "execution_count": 83,
   "id": "6cd8cb13",
   "metadata": {},
   "outputs": [
    {
     "name": "stderr",
     "output_type": "stream",
     "text": [
      "/opt/anaconda3/envs/ADS509/lib/python3.10/site-packages/sklearn/neighbors/_classification.py:211: FutureWarning: Unlike other reduction functions (e.g. `skew`, `kurtosis`), the default behavior of `mode` typically preserves the axis it acts along. In SciPy 1.11.0, this behavior will change: the default value of `keepdims` will become False, the `axis` over which the statistic is taken will be eliminated, and the value None will no longer be accepted. Set `keepdims` to True or False to avoid this warning.\n",
      "  mode, _ = stats.mode(_y[neigh_ind, k], axis=1)\n",
      "/opt/anaconda3/envs/ADS509/lib/python3.10/site-packages/sklearn/neighbors/_classification.py:211: FutureWarning: Unlike other reduction functions (e.g. `skew`, `kurtosis`), the default behavior of `mode` typically preserves the axis it acts along. In SciPy 1.11.0, this behavior will change: the default value of `keepdims` will become False, the `axis` over which the statistic is taken will be eliminated, and the value None will no longer be accepted. Set `keepdims` to True or False to avoid this warning.\n",
      "  mode, _ = stats.mode(_y[neigh_ind, k], axis=1)\n",
      "/opt/anaconda3/envs/ADS509/lib/python3.10/site-packages/sklearn/neighbors/_classification.py:211: FutureWarning: Unlike other reduction functions (e.g. `skew`, `kurtosis`), the default behavior of `mode` typically preserves the axis it acts along. In SciPy 1.11.0, this behavior will change: the default value of `keepdims` will become False, the `axis` over which the statistic is taken will be eliminated, and the value None will no longer be accepted. Set `keepdims` to True or False to avoid this warning.\n",
      "  mode, _ = stats.mode(_y[neigh_ind, k], axis=1)\n",
      "/opt/anaconda3/envs/ADS509/lib/python3.10/site-packages/sklearn/neighbors/_classification.py:211: FutureWarning: Unlike other reduction functions (e.g. `skew`, `kurtosis`), the default behavior of `mode` typically preserves the axis it acts along. In SciPy 1.11.0, this behavior will change: the default value of `keepdims` will become False, the `axis` over which the statistic is taken will be eliminated, and the value None will no longer be accepted. Set `keepdims` to True or False to avoid this warning.\n",
      "  mode, _ = stats.mode(_y[neigh_ind, k], axis=1)\n",
      "/opt/anaconda3/envs/ADS509/lib/python3.10/site-packages/sklearn/neighbors/_classification.py:211: FutureWarning: Unlike other reduction functions (e.g. `skew`, `kurtosis`), the default behavior of `mode` typically preserves the axis it acts along. In SciPy 1.11.0, this behavior will change: the default value of `keepdims` will become False, the `axis` over which the statistic is taken will be eliminated, and the value None will no longer be accepted. Set `keepdims` to True or False to avoid this warning.\n",
      "  mode, _ = stats.mode(_y[neigh_ind, k], axis=1)\n",
      "/opt/anaconda3/envs/ADS509/lib/python3.10/site-packages/sklearn/neighbors/_classification.py:211: FutureWarning: Unlike other reduction functions (e.g. `skew`, `kurtosis`), the default behavior of `mode` typically preserves the axis it acts along. In SciPy 1.11.0, this behavior will change: the default value of `keepdims` will become False, the `axis` over which the statistic is taken will be eliminated, and the value None will no longer be accepted. Set `keepdims` to True or False to avoid this warning.\n",
      "  mode, _ = stats.mode(_y[neigh_ind, k], axis=1)\n",
      "/opt/anaconda3/envs/ADS509/lib/python3.10/site-packages/sklearn/neighbors/_classification.py:211: FutureWarning: Unlike other reduction functions (e.g. `skew`, `kurtosis`), the default behavior of `mode` typically preserves the axis it acts along. In SciPy 1.11.0, this behavior will change: the default value of `keepdims` will become False, the `axis` over which the statistic is taken will be eliminated, and the value None will no longer be accepted. Set `keepdims` to True or False to avoid this warning.\n",
      "  mode, _ = stats.mode(_y[neigh_ind, k], axis=1)\n",
      "/opt/anaconda3/envs/ADS509/lib/python3.10/site-packages/sklearn/neighbors/_classification.py:211: FutureWarning: Unlike other reduction functions (e.g. `skew`, `kurtosis`), the default behavior of `mode` typically preserves the axis it acts along. In SciPy 1.11.0, this behavior will change: the default value of `keepdims` will become False, the `axis` over which the statistic is taken will be eliminated, and the value None will no longer be accepted. Set `keepdims` to True or False to avoid this warning.\n",
      "  mode, _ = stats.mode(_y[neigh_ind, k], axis=1)\n",
      "/opt/anaconda3/envs/ADS509/lib/python3.10/site-packages/sklearn/neighbors/_classification.py:211: FutureWarning: Unlike other reduction functions (e.g. `skew`, `kurtosis`), the default behavior of `mode` typically preserves the axis it acts along. In SciPy 1.11.0, this behavior will change: the default value of `keepdims` will become False, the `axis` over which the statistic is taken will be eliminated, and the value None will no longer be accepted. Set `keepdims` to True or False to avoid this warning.\n",
      "  mode, _ = stats.mode(_y[neigh_ind, k], axis=1)\n",
      "/opt/anaconda3/envs/ADS509/lib/python3.10/site-packages/sklearn/neighbors/_classification.py:211: FutureWarning: Unlike other reduction functions (e.g. `skew`, `kurtosis`), the default behavior of `mode` typically preserves the axis it acts along. In SciPy 1.11.0, this behavior will change: the default value of `keepdims` will become False, the `axis` over which the statistic is taken will be eliminated, and the value None will no longer be accepted. Set `keepdims` to True or False to avoid this warning.\n",
      "  mode, _ = stats.mode(_y[neigh_ind, k], axis=1)\n",
      "/opt/anaconda3/envs/ADS509/lib/python3.10/site-packages/sklearn/neighbors/_classification.py:211: FutureWarning: Unlike other reduction functions (e.g. `skew`, `kurtosis`), the default behavior of `mode` typically preserves the axis it acts along. In SciPy 1.11.0, this behavior will change: the default value of `keepdims` will become False, the `axis` over which the statistic is taken will be eliminated, and the value None will no longer be accepted. Set `keepdims` to True or False to avoid this warning.\n",
      "  mode, _ = stats.mode(_y[neigh_ind, k], axis=1)\n",
      "/opt/anaconda3/envs/ADS509/lib/python3.10/site-packages/sklearn/neighbors/_classification.py:211: FutureWarning: Unlike other reduction functions (e.g. `skew`, `kurtosis`), the default behavior of `mode` typically preserves the axis it acts along. In SciPy 1.11.0, this behavior will change: the default value of `keepdims` will become False, the `axis` over which the statistic is taken will be eliminated, and the value None will no longer be accepted. Set `keepdims` to True or False to avoid this warning.\n",
      "  mode, _ = stats.mode(_y[neigh_ind, k], axis=1)\n",
      "/opt/anaconda3/envs/ADS509/lib/python3.10/site-packages/sklearn/neighbors/_classification.py:211: FutureWarning: Unlike other reduction functions (e.g. `skew`, `kurtosis`), the default behavior of `mode` typically preserves the axis it acts along. In SciPy 1.11.0, this behavior will change: the default value of `keepdims` will become False, the `axis` over which the statistic is taken will be eliminated, and the value None will no longer be accepted. Set `keepdims` to True or False to avoid this warning.\n",
      "  mode, _ = stats.mode(_y[neigh_ind, k], axis=1)\n",
      "/opt/anaconda3/envs/ADS509/lib/python3.10/site-packages/sklearn/neighbors/_classification.py:211: FutureWarning: Unlike other reduction functions (e.g. `skew`, `kurtosis`), the default behavior of `mode` typically preserves the axis it acts along. In SciPy 1.11.0, this behavior will change: the default value of `keepdims` will become False, the `axis` over which the statistic is taken will be eliminated, and the value None will no longer be accepted. Set `keepdims` to True or False to avoid this warning.\n",
      "  mode, _ = stats.mode(_y[neigh_ind, k], axis=1)\n",
      "/opt/anaconda3/envs/ADS509/lib/python3.10/site-packages/sklearn/neighbors/_classification.py:211: FutureWarning: Unlike other reduction functions (e.g. `skew`, `kurtosis`), the default behavior of `mode` typically preserves the axis it acts along. In SciPy 1.11.0, this behavior will change: the default value of `keepdims` will become False, the `axis` over which the statistic is taken will be eliminated, and the value None will no longer be accepted. Set `keepdims` to True or False to avoid this warning.\n",
      "  mode, _ = stats.mode(_y[neigh_ind, k], axis=1)\n"
     ]
    },
    {
     "name": "stderr",
     "output_type": "stream",
     "text": [
      "/opt/anaconda3/envs/ADS509/lib/python3.10/site-packages/sklearn/neighbors/_classification.py:211: FutureWarning: Unlike other reduction functions (e.g. `skew`, `kurtosis`), the default behavior of `mode` typically preserves the axis it acts along. In SciPy 1.11.0, this behavior will change: the default value of `keepdims` will become False, the `axis` over which the statistic is taken will be eliminated, and the value None will no longer be accepted. Set `keepdims` to True or False to avoid this warning.\n",
      "  mode, _ = stats.mode(_y[neigh_ind, k], axis=1)\n",
      "/opt/anaconda3/envs/ADS509/lib/python3.10/site-packages/sklearn/neighbors/_classification.py:211: FutureWarning: Unlike other reduction functions (e.g. `skew`, `kurtosis`), the default behavior of `mode` typically preserves the axis it acts along. In SciPy 1.11.0, this behavior will change: the default value of `keepdims` will become False, the `axis` over which the statistic is taken will be eliminated, and the value None will no longer be accepted. Set `keepdims` to True or False to avoid this warning.\n",
      "  mode, _ = stats.mode(_y[neigh_ind, k], axis=1)\n",
      "/opt/anaconda3/envs/ADS509/lib/python3.10/site-packages/sklearn/neighbors/_classification.py:211: FutureWarning: Unlike other reduction functions (e.g. `skew`, `kurtosis`), the default behavior of `mode` typically preserves the axis it acts along. In SciPy 1.11.0, this behavior will change: the default value of `keepdims` will become False, the `axis` over which the statistic is taken will be eliminated, and the value None will no longer be accepted. Set `keepdims` to True or False to avoid this warning.\n",
      "  mode, _ = stats.mode(_y[neigh_ind, k], axis=1)\n",
      "/opt/anaconda3/envs/ADS509/lib/python3.10/site-packages/sklearn/neighbors/_classification.py:211: FutureWarning: Unlike other reduction functions (e.g. `skew`, `kurtosis`), the default behavior of `mode` typically preserves the axis it acts along. In SciPy 1.11.0, this behavior will change: the default value of `keepdims` will become False, the `axis` over which the statistic is taken will be eliminated, and the value None will no longer be accepted. Set `keepdims` to True or False to avoid this warning.\n",
      "  mode, _ = stats.mode(_y[neigh_ind, k], axis=1)\n",
      "/opt/anaconda3/envs/ADS509/lib/python3.10/site-packages/sklearn/neighbors/_classification.py:211: FutureWarning: Unlike other reduction functions (e.g. `skew`, `kurtosis`), the default behavior of `mode` typically preserves the axis it acts along. In SciPy 1.11.0, this behavior will change: the default value of `keepdims` will become False, the `axis` over which the statistic is taken will be eliminated, and the value None will no longer be accepted. Set `keepdims` to True or False to avoid this warning.\n",
      "  mode, _ = stats.mode(_y[neigh_ind, k], axis=1)\n",
      "/opt/anaconda3/envs/ADS509/lib/python3.10/site-packages/sklearn/neighbors/_classification.py:211: FutureWarning: Unlike other reduction functions (e.g. `skew`, `kurtosis`), the default behavior of `mode` typically preserves the axis it acts along. In SciPy 1.11.0, this behavior will change: the default value of `keepdims` will become False, the `axis` over which the statistic is taken will be eliminated, and the value None will no longer be accepted. Set `keepdims` to True or False to avoid this warning.\n",
      "  mode, _ = stats.mode(_y[neigh_ind, k], axis=1)\n",
      "/opt/anaconda3/envs/ADS509/lib/python3.10/site-packages/sklearn/neighbors/_classification.py:211: FutureWarning: Unlike other reduction functions (e.g. `skew`, `kurtosis`), the default behavior of `mode` typically preserves the axis it acts along. In SciPy 1.11.0, this behavior will change: the default value of `keepdims` will become False, the `axis` over which the statistic is taken will be eliminated, and the value None will no longer be accepted. Set `keepdims` to True or False to avoid this warning.\n",
      "  mode, _ = stats.mode(_y[neigh_ind, k], axis=1)\n",
      "/opt/anaconda3/envs/ADS509/lib/python3.10/site-packages/sklearn/neighbors/_classification.py:211: FutureWarning: Unlike other reduction functions (e.g. `skew`, `kurtosis`), the default behavior of `mode` typically preserves the axis it acts along. In SciPy 1.11.0, this behavior will change: the default value of `keepdims` will become False, the `axis` over which the statistic is taken will be eliminated, and the value None will no longer be accepted. Set `keepdims` to True or False to avoid this warning.\n",
      "  mode, _ = stats.mode(_y[neigh_ind, k], axis=1)\n",
      "/opt/anaconda3/envs/ADS509/lib/python3.10/site-packages/sklearn/neighbors/_classification.py:211: FutureWarning: Unlike other reduction functions (e.g. `skew`, `kurtosis`), the default behavior of `mode` typically preserves the axis it acts along. In SciPy 1.11.0, this behavior will change: the default value of `keepdims` will become False, the `axis` over which the statistic is taken will be eliminated, and the value None will no longer be accepted. Set `keepdims` to True or False to avoid this warning.\n",
      "  mode, _ = stats.mode(_y[neigh_ind, k], axis=1)\n",
      "/opt/anaconda3/envs/ADS509/lib/python3.10/site-packages/sklearn/neighbors/_classification.py:211: FutureWarning: Unlike other reduction functions (e.g. `skew`, `kurtosis`), the default behavior of `mode` typically preserves the axis it acts along. In SciPy 1.11.0, this behavior will change: the default value of `keepdims` will become False, the `axis` over which the statistic is taken will be eliminated, and the value None will no longer be accepted. Set `keepdims` to True or False to avoid this warning.\n",
      "  mode, _ = stats.mode(_y[neigh_ind, k], axis=1)\n",
      "/opt/anaconda3/envs/ADS509/lib/python3.10/site-packages/sklearn/neighbors/_classification.py:211: FutureWarning: Unlike other reduction functions (e.g. `skew`, `kurtosis`), the default behavior of `mode` typically preserves the axis it acts along. In SciPy 1.11.0, this behavior will change: the default value of `keepdims` will become False, the `axis` over which the statistic is taken will be eliminated, and the value None will no longer be accepted. Set `keepdims` to True or False to avoid this warning.\n",
      "  mode, _ = stats.mode(_y[neigh_ind, k], axis=1)\n",
      "/opt/anaconda3/envs/ADS509/lib/python3.10/site-packages/sklearn/neighbors/_classification.py:211: FutureWarning: Unlike other reduction functions (e.g. `skew`, `kurtosis`), the default behavior of `mode` typically preserves the axis it acts along. In SciPy 1.11.0, this behavior will change: the default value of `keepdims` will become False, the `axis` over which the statistic is taken will be eliminated, and the value None will no longer be accepted. Set `keepdims` to True or False to avoid this warning.\n",
      "  mode, _ = stats.mode(_y[neigh_ind, k], axis=1)\n",
      "/opt/anaconda3/envs/ADS509/lib/python3.10/site-packages/sklearn/neighbors/_classification.py:211: FutureWarning: Unlike other reduction functions (e.g. `skew`, `kurtosis`), the default behavior of `mode` typically preserves the axis it acts along. In SciPy 1.11.0, this behavior will change: the default value of `keepdims` will become False, the `axis` over which the statistic is taken will be eliminated, and the value None will no longer be accepted. Set `keepdims` to True or False to avoid this warning.\n",
      "  mode, _ = stats.mode(_y[neigh_ind, k], axis=1)\n",
      "/opt/anaconda3/envs/ADS509/lib/python3.10/site-packages/sklearn/neighbors/_classification.py:211: FutureWarning: Unlike other reduction functions (e.g. `skew`, `kurtosis`), the default behavior of `mode` typically preserves the axis it acts along. In SciPy 1.11.0, this behavior will change: the default value of `keepdims` will become False, the `axis` over which the statistic is taken will be eliminated, and the value None will no longer be accepted. Set `keepdims` to True or False to avoid this warning.\n",
      "  mode, _ = stats.mode(_y[neigh_ind, k], axis=1)\n",
      "/opt/anaconda3/envs/ADS509/lib/python3.10/site-packages/sklearn/neighbors/_classification.py:211: FutureWarning: Unlike other reduction functions (e.g. `skew`, `kurtosis`), the default behavior of `mode` typically preserves the axis it acts along. In SciPy 1.11.0, this behavior will change: the default value of `keepdims` will become False, the `axis` over which the statistic is taken will be eliminated, and the value None will no longer be accepted. Set `keepdims` to True or False to avoid this warning.\n",
      "  mode, _ = stats.mode(_y[neigh_ind, k], axis=1)\n"
     ]
    },
    {
     "name": "stderr",
     "output_type": "stream",
     "text": [
      "/opt/anaconda3/envs/ADS509/lib/python3.10/site-packages/sklearn/neighbors/_classification.py:211: FutureWarning: Unlike other reduction functions (e.g. `skew`, `kurtosis`), the default behavior of `mode` typically preserves the axis it acts along. In SciPy 1.11.0, this behavior will change: the default value of `keepdims` will become False, the `axis` over which the statistic is taken will be eliminated, and the value None will no longer be accepted. Set `keepdims` to True or False to avoid this warning.\n",
      "  mode, _ = stats.mode(_y[neigh_ind, k], axis=1)\n",
      "/opt/anaconda3/envs/ADS509/lib/python3.10/site-packages/sklearn/neighbors/_classification.py:211: FutureWarning: Unlike other reduction functions (e.g. `skew`, `kurtosis`), the default behavior of `mode` typically preserves the axis it acts along. In SciPy 1.11.0, this behavior will change: the default value of `keepdims` will become False, the `axis` over which the statistic is taken will be eliminated, and the value None will no longer be accepted. Set `keepdims` to True or False to avoid this warning.\n",
      "  mode, _ = stats.mode(_y[neigh_ind, k], axis=1)\n",
      "/opt/anaconda3/envs/ADS509/lib/python3.10/site-packages/sklearn/neighbors/_classification.py:211: FutureWarning: Unlike other reduction functions (e.g. `skew`, `kurtosis`), the default behavior of `mode` typically preserves the axis it acts along. In SciPy 1.11.0, this behavior will change: the default value of `keepdims` will become False, the `axis` over which the statistic is taken will be eliminated, and the value None will no longer be accepted. Set `keepdims` to True or False to avoid this warning.\n",
      "  mode, _ = stats.mode(_y[neigh_ind, k], axis=1)\n",
      "/opt/anaconda3/envs/ADS509/lib/python3.10/site-packages/sklearn/neighbors/_classification.py:211: FutureWarning: Unlike other reduction functions (e.g. `skew`, `kurtosis`), the default behavior of `mode` typically preserves the axis it acts along. In SciPy 1.11.0, this behavior will change: the default value of `keepdims` will become False, the `axis` over which the statistic is taken will be eliminated, and the value None will no longer be accepted. Set `keepdims` to True or False to avoid this warning.\n",
      "  mode, _ = stats.mode(_y[neigh_ind, k], axis=1)\n",
      "/opt/anaconda3/envs/ADS509/lib/python3.10/site-packages/sklearn/neighbors/_classification.py:211: FutureWarning: Unlike other reduction functions (e.g. `skew`, `kurtosis`), the default behavior of `mode` typically preserves the axis it acts along. In SciPy 1.11.0, this behavior will change: the default value of `keepdims` will become False, the `axis` over which the statistic is taken will be eliminated, and the value None will no longer be accepted. Set `keepdims` to True or False to avoid this warning.\n",
      "  mode, _ = stats.mode(_y[neigh_ind, k], axis=1)\n",
      "/opt/anaconda3/envs/ADS509/lib/python3.10/site-packages/sklearn/neighbors/_classification.py:211: FutureWarning: Unlike other reduction functions (e.g. `skew`, `kurtosis`), the default behavior of `mode` typically preserves the axis it acts along. In SciPy 1.11.0, this behavior will change: the default value of `keepdims` will become False, the `axis` over which the statistic is taken will be eliminated, and the value None will no longer be accepted. Set `keepdims` to True or False to avoid this warning.\n",
      "  mode, _ = stats.mode(_y[neigh_ind, k], axis=1)\n",
      "/opt/anaconda3/envs/ADS509/lib/python3.10/site-packages/sklearn/neighbors/_classification.py:211: FutureWarning: Unlike other reduction functions (e.g. `skew`, `kurtosis`), the default behavior of `mode` typically preserves the axis it acts along. In SciPy 1.11.0, this behavior will change: the default value of `keepdims` will become False, the `axis` over which the statistic is taken will be eliminated, and the value None will no longer be accepted. Set `keepdims` to True or False to avoid this warning.\n",
      "  mode, _ = stats.mode(_y[neigh_ind, k], axis=1)\n",
      "/opt/anaconda3/envs/ADS509/lib/python3.10/site-packages/sklearn/neighbors/_classification.py:211: FutureWarning: Unlike other reduction functions (e.g. `skew`, `kurtosis`), the default behavior of `mode` typically preserves the axis it acts along. In SciPy 1.11.0, this behavior will change: the default value of `keepdims` will become False, the `axis` over which the statistic is taken will be eliminated, and the value None will no longer be accepted. Set `keepdims` to True or False to avoid this warning.\n",
      "  mode, _ = stats.mode(_y[neigh_ind, k], axis=1)\n",
      "/opt/anaconda3/envs/ADS509/lib/python3.10/site-packages/sklearn/neighbors/_classification.py:211: FutureWarning: Unlike other reduction functions (e.g. `skew`, `kurtosis`), the default behavior of `mode` typically preserves the axis it acts along. In SciPy 1.11.0, this behavior will change: the default value of `keepdims` will become False, the `axis` over which the statistic is taken will be eliminated, and the value None will no longer be accepted. Set `keepdims` to True or False to avoid this warning.\n",
      "  mode, _ = stats.mode(_y[neigh_ind, k], axis=1)\n",
      "/opt/anaconda3/envs/ADS509/lib/python3.10/site-packages/sklearn/neighbors/_classification.py:211: FutureWarning: Unlike other reduction functions (e.g. `skew`, `kurtosis`), the default behavior of `mode` typically preserves the axis it acts along. In SciPy 1.11.0, this behavior will change: the default value of `keepdims` will become False, the `axis` over which the statistic is taken will be eliminated, and the value None will no longer be accepted. Set `keepdims` to True or False to avoid this warning.\n",
      "  mode, _ = stats.mode(_y[neigh_ind, k], axis=1)\n"
     ]
    },
    {
     "name": "stdout",
     "output_type": "stream",
     "text": [
      "Best: 0.800470 using {'algorithm': 'brute', 'n_neighbors': 7, 'weights': 'uniform'}\n",
      "0.791350 (0.005238) with: {'algorithm': 'auto', 'n_neighbors': 5, 'weights': 'uniform'}\n",
      "0.787205 (0.005470) with: {'algorithm': 'auto', 'n_neighbors': 5, 'weights': 'distance'}\n",
      "0.795330 (0.004791) with: {'algorithm': 'auto', 'n_neighbors': 7, 'weights': 'uniform'}\n",
      "0.791239 (0.005332) with: {'algorithm': 'auto', 'n_neighbors': 7, 'weights': 'distance'}\n",
      "0.792151 (0.005363) with: {'algorithm': 'ball_tree', 'n_neighbors': 5, 'weights': 'uniform'}\n",
      "0.787426 (0.005518) with: {'algorithm': 'ball_tree', 'n_neighbors': 5, 'weights': 'distance'}\n",
      "0.796711 (0.004952) with: {'algorithm': 'ball_tree', 'n_neighbors': 7, 'weights': 'uniform'}\n",
      "0.791129 (0.005387) with: {'algorithm': 'ball_tree', 'n_neighbors': 7, 'weights': 'distance'}\n",
      "0.791350 (0.005238) with: {'algorithm': 'kd_tree', 'n_neighbors': 5, 'weights': 'uniform'}\n",
      "0.787205 (0.005470) with: {'algorithm': 'kd_tree', 'n_neighbors': 5, 'weights': 'distance'}\n",
      "0.795330 (0.004791) with: {'algorithm': 'kd_tree', 'n_neighbors': 7, 'weights': 'uniform'}\n",
      "0.791239 (0.005332) with: {'algorithm': 'kd_tree', 'n_neighbors': 7, 'weights': 'distance'}\n",
      "0.795302 (0.005657) with: {'algorithm': 'brute', 'n_neighbors': 5, 'weights': 'uniform'}\n",
      "0.790493 (0.006228) with: {'algorithm': 'brute', 'n_neighbors': 5, 'weights': 'distance'}\n",
      "0.800470 (0.005866) with: {'algorithm': 'brute', 'n_neighbors': 7, 'weights': 'uniform'}\n",
      "0.795661 (0.006068) with: {'algorithm': 'brute', 'n_neighbors': 7, 'weights': 'distance'}\n"
     ]
    }
   ],
   "source": [
    "## build model\n",
    "model = KNeighborsClassifier()\n",
    "\n",
    "n_neighbors =[5, 7] ## default 5\n",
    "weights = ['uniform', 'distance'] # default uniform\n",
    "algorithm = ['auto', 'ball_tree', 'kd_tree', 'brute'] ## default auto\n",
    "\n",
    "# define grid search\n",
    "grid = dict(n_neighbors = n_neighbors, weights = weights, algorithm = algorithm)\n",
    "\n",
    "grid_search = GridSearchCV(estimator=model, param_grid=grid, n_jobs=-1, scoring='accuracy')\n",
    "grid_result = grid_search.fit(X_train, y_train)\n",
    "\n",
    "# summarize results\n",
    "print(\"Best: %f using %s\" % (grid_result.best_score_, grid_result.best_params_))\n",
    "means = grid_result.cv_results_['mean_test_score']\n",
    "stds = grid_result.cv_results_['std_test_score']\n",
    "params = grid_result.cv_results_['params']\n",
    "for mean, stdev, param in zip(means, stds, params):\n",
    "    print(\"%f (%f) with: %r\" % (mean, stdev, param))"
   ]
  },
  {
   "cell_type": "code",
   "execution_count": 85,
   "id": "32880045",
   "metadata": {},
   "outputs": [
    {
     "data": {
      "text/plain": [
       "KNeighborsClassifier(algorithm='brute', n_neighbors=7)"
      ]
     },
     "execution_count": 85,
     "metadata": {},
     "output_type": "execute_result"
    }
   ],
   "source": [
    "# Building KNN model \n",
    "knn = KNeighborsClassifier(algorithm = 'brute', n_neighbors = 7, weights = 'uniform')\n",
    "knn.fit(X_train, y_train)"
   ]
  },
  {
   "cell_type": "markdown",
   "id": "e4aed100",
   "metadata": {},
   "source": [
    "### Model Evlaluation"
   ]
  },
  {
   "cell_type": "code",
   "execution_count": 86,
   "id": "22ce8ed0",
   "metadata": {},
   "outputs": [],
   "source": [
    "## function to calculate performance metrics\n",
    "def evaluate_model(model, in_xtest, in_ytest):\n",
    "    from sklearn import metrics\n",
    "\n",
    "    # Test Data prediction \n",
    "    local_ypred = model.predict(in_xtest)\n",
    "\n",
    "    # calculating accuracy, precision, recall, f1-score, and kappa score\n",
    "    accuracy = round(metrics.accuracy_score(in_ytest, local_ypred),2)\n",
    "    precision = round(metrics.precision_score(in_ytest, local_ypred, pos_label='High-Level'),2)\n",
    "    recall = round(metrics.recall_score(in_ytest, local_ypred, pos_label='High-Level'),2)\n",
    "    f1 = round(metrics.f1_score(in_ytest, local_ypred, pos_label='High-Level'),2)\n",
    "    kappa = round(metrics.cohen_kappa_score(in_ytest, local_ypred),2)\n",
    "    \n",
    "    \n",
    "    return {'Accuracy': accuracy, 'Precision': precision, 'Recall': recall, 'f1': f1, 'Kappa': kappa}"
   ]
  },
  {
   "cell_type": "code",
   "execution_count": 96,
   "id": "446575c8",
   "metadata": {},
   "outputs": [
    {
     "data": {
      "text/plain": [
       "{'Accuracy': 0.8, 'Precision': 0.67, 'Recall': 0.42, 'f1': 0.52, 'Kappa': 0.4}"
      ]
     },
     "execution_count": 96,
     "metadata": {},
     "output_type": "execute_result"
    }
   ],
   "source": [
    "## Logistic Regression Results\n",
    "log_metric = evaluate_model(logit_regCV, X_test, y_test)\n",
    "log_metric"
   ]
  },
  {
   "cell_type": "code",
   "execution_count": 97,
   "id": "cb3d2ba6",
   "metadata": {},
   "outputs": [
    {
     "data": {
      "text/plain": [
       "{'Accuracy': 0.81,\n",
       " 'Precision': 0.69,\n",
       " 'Recall': 0.45,\n",
       " 'f1': 0.54,\n",
       " 'Kappa': 0.43}"
      ]
     },
     "execution_count": 97,
     "metadata": {},
     "output_type": "execute_result"
    }
   ],
   "source": [
    "## Decision Tree Results\n",
    "dtc_metric = evaluate_model(dtc, X_test, y_test)\n",
    "dtc_metric"
   ]
  },
  {
   "cell_type": "code",
   "execution_count": 98,
   "id": "04f942fc",
   "metadata": {},
   "outputs": [
    {
     "data": {
      "text/plain": [
       "{'Accuracy': 0.81,\n",
       " 'Precision': 0.64,\n",
       " 'Recall': 0.48,\n",
       " 'f1': 0.55,\n",
       " 'Kappa': 0.43}"
      ]
     },
     "execution_count": 98,
     "metadata": {},
     "output_type": "execute_result"
    }
   ],
   "source": [
    "## Random Forest Results\n",
    "rf_metric = evaluate_model(rf, X_test, y_test)\n",
    "rf_metric"
   ]
  },
  {
   "cell_type": "code",
   "execution_count": 95,
   "id": "cd716532",
   "metadata": {},
   "outputs": [
    {
     "data": {
      "text/plain": [
       "{'Accuracy': 0.79, 'Precision': 0.59, 'Recall': 0.5, 'f1': 0.54, 'Kappa': 0.41}"
      ]
     },
     "execution_count": 95,
     "metadata": {},
     "output_type": "execute_result"
    }
   ],
   "source": [
    "## Naive Bayes Results\n",
    "nb_metric = evaluate_model(nb, X_test, y_test)\n",
    "nb_metric"
   ]
  },
  {
   "cell_type": "code",
   "execution_count": 92,
   "id": "f2e8878f",
   "metadata": {},
   "outputs": [
    {
     "name": "stderr",
     "output_type": "stream",
     "text": [
      "/opt/anaconda3/envs/ADS509/lib/python3.10/site-packages/sklearn/neighbors/_classification.py:211: FutureWarning: Unlike other reduction functions (e.g. `skew`, `kurtosis`), the default behavior of `mode` typically preserves the axis it acts along. In SciPy 1.11.0, this behavior will change: the default value of `keepdims` will become False, the `axis` over which the statistic is taken will be eliminated, and the value None will no longer be accepted. Set `keepdims` to True or False to avoid this warning.\n",
      "  mode, _ = stats.mode(_y[neigh_ind, k], axis=1)\n"
     ]
    },
    {
     "data": {
      "text/plain": [
       "{'Accuracy': 0.8, 'Precision': 0.62, 'Recall': 0.48, 'f1': 0.54, 'Kappa': 0.42}"
      ]
     },
     "execution_count": 92,
     "metadata": {},
     "output_type": "execute_result"
    }
   ],
   "source": [
    "## K Nearest Neighbor Results\n",
    "knn_metric = evaluate_model(knn, X_test, y_test)\n",
    "knn_metric"
   ]
  },
  {
   "cell_type": "code",
   "execution_count": 104,
   "id": "307e7fc9",
   "metadata": {},
   "outputs": [
    {
     "name": "stdout",
     "output_type": "stream",
     "text": [
      "Model Performance\n",
      "                    Accuracy  Precision  Recall    f1  Kappa\n",
      "Logit                   0.80       0.67    0.42  0.52   0.40\n",
      "Decision Tree           0.81       0.69    0.45  0.54   0.43\n",
      "Random Forest           0.81       0.64    0.48  0.55   0.43\n",
      "Naive Bayes             0.79       0.59    0.50  0.54   0.41\n",
      "K Nearest Neighbor      0.80       0.62    0.48  0.54   0.42\n"
     ]
    }
   ],
   "source": [
    "## Visualize all performance measures together\n",
    "performance = pd.DataFrame({'Logit':pd.Series(log_metric),'Decision Tree':pd.Series(dtc_metric),\n",
    "                           'Random Forest':pd.Series(rf_metric),'Naive Bayes':pd.Series(nb_metric),\n",
    "                           'K Nearest Neighbor':pd.Series(knn_metric)})\n",
    "\n",
    "performance = performance.T\n",
    "\n",
    "print(\"Model Performance\")\n",
    "print(performance)"
   ]
  },
  {
   "cell_type": "markdown",
   "id": "4703ffc9",
   "metadata": {},
   "source": [
    "#### Model Evaluation Visual"
   ]
  },
  {
   "cell_type": "code",
   "execution_count": 108,
   "id": "57bc9856",
   "metadata": {},
   "outputs": [
    {
     "data": {
      "image/png": "[encoded data removed]",
      "text/plain": [
       "<Figure size 1400x700 with 1 Axes>"
      ]
     },
     "metadata": {},
     "output_type": "display_data"
    }
   ],
   "source": [
    "fig, (ax1) = plt.subplots(1)\n",
    "fig.suptitle('Model Comparison', fontsize=16, fontweight='bold')\n",
    "fig.set_figheight(7)\n",
    "fig.set_figwidth(14)\n",
    "\n",
    "\n",
    "barWidth = 0.1\n",
    "log_score = [log_metric['Accuracy'], log_metric['Precision'], log_metric['Recall'], log_metric['f1'], log_metric['Kappa']]\n",
    "dtc_score = [dtc_metric['Accuracy'], dtc_metric['Precision'], dtc_metric['Recall'], dtc_metric['f1'], dtc_metric['Kappa']]\n",
    "rf_score = [rf_metric['Accuracy'], rf_metric['Precision'], rf_metric['Recall'], rf_metric['f1'], rf_metric['Kappa']]\n",
    "nb_score = [nb_metric['Accuracy'], nb_metric['Precision'], nb_metric['Recall'], nb_metric['f1'], nb_metric['Kappa']]\n",
    "knn_score = [knn_metric['Accuracy'], knn_metric['Precision'], knn_metric['Recall'], knn_metric['f1'], knn_metric['Kappa']]\n",
    "\n",
    "r1 = np.arange(len(log_score))\n",
    "r2 = [x + barWidth for x in r1]\n",
    "r3 = [x + barWidth for x in r2]\n",
    "r4 = [x + barWidth for x in r3]\n",
    "r5 = [x + barWidth for x in r4]\n",
    "\n",
    "\n",
    "ax1.bar(r1, log_score, width=barWidth, edgecolor='white', label='Logistic Regression')\n",
    "ax1.bar(r2, dtc_score, width=barWidth, edgecolor='white', label='Desicion Tree')\n",
    "ax1.bar(r3, rf_score, width=barWidth, edgecolor='white', label='Random Forest')\n",
    "ax1.bar(r4, nb_score, width=barWidth, edgecolor='white', label='Naive Bayes')\n",
    "ax1.bar(r5, knn_score, width=barWidth, edgecolor='white', label='K Nearest Neighbor')\n",
    "\n",
    "\n",
    "## Configure x and y axis\n",
    "ax1.set_xlabel('Metrics', fontweight='bold')\n",
    "labels = ['Accuracy', 'Precision', 'Recall', 'F1', 'Kappa']\n",
    "ax1.set_xticks([r + (barWidth * 1.5) for r in range(len(dtc_score))], )\n",
    "ax1.set_xticklabels(labels)\n",
    "ax1.set_ylabel('Metric_Score', fontweight='bold')\n",
    "ax1.set_ylim(0, 1)\n",
    "\n",
    "## Create legend & title\n",
    "ax1.set_title('Evaluation Metrics', fontsize=14, fontweight='bold')\n",
    "ax1.legend()\n",
    "\n",
    "plt.show()"
   ]
  }
 ],
 "metadata": {
  "kernelspec": {
   "display_name": "Python 3 (ipykernel)",
   "language": "python",
   "name": "python3"
  },
  "language_info": {
   "codemirror_mode": {
    "name": "ipython",
    "version": 3
   },
   "file_extension": ".py",
   "mimetype": "text/x-python",
   "name": "python",
   "nbconvert_exporter": "python",
   "pygments_lexer": "ipython3",
   "version": "3.10.9"
  }
 },
 "nbformat": 4,
 "nbformat_minor": 5
}
