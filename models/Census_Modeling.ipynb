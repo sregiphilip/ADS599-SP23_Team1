{
 "cells": [
  {
   "cell_type": "code",
   "execution_count": 2,
   "id": "9cd5b058",
   "metadata": {},
   "outputs": [],
   "source": [
    "import pandas as pd\n",
    "import numpy as np \n",
    "import seaborn as sns\n",
    "\n",
    "!pip install dmba\n",
    "import dmba\n",
    "from dmba import classificationSummary, gainsChart, liftChart\n",
    "\n",
    "from sklearn.model_selection import train_test_split\n",
    "from sklearn.metrics import confusion_matrix, accuracy_score\n",
    "from sklearn import tree\n",
    "from sklearn.naive_bayes import GaussianNB\n",
    "from sklearn.ensemble import RandomForestClassifier\n",
    "from sklearn.neighbors import KNeighborsClassifier\n",
    "\n",
    "import matplotlib.pyplot as plt"
   ]
  },
  {
   "cell_type": "code",
   "execution_count": 3,
   "id": "1fdf6300",
   "metadata": {},
   "outputs": [],
   "source": [
    "## Remember to replace with your local filepath\n",
    "census = pd.read_csv('C:\\\\Users\\\\maha.jayapal\\\\Downloads\\\\census.csv')"
   ]
  },
  {
   "cell_type": "code",
   "execution_count": 4,
   "id": "8fb1e920",
   "metadata": {},
   "outputs": [],
   "source": [
    "## keep copy of original dataframe in case we need to revert back later\n",
    "census_original = census"
   ]
  },
  {
   "cell_type": "code",
   "execution_count": 5,
   "id": "f72e1672",
   "metadata": {},
   "outputs": [],
   "source": [
    "## drop columns that are not likely to be valuable or relevant\n",
    "census = census.drop(columns=['fnlwgt','education-num', 'capital-gain', 'capital-loss', 'hours-per-week',\n",
    "                             'occupation', 'relationship', 'race'])"
   ]
  },
  {
   "cell_type": "code",
   "execution_count": 6,
   "id": "c6e005be",
   "metadata": {},
   "outputs": [],
   "source": [
    "## drop '?' values\n",
    "census = census.drop(census.loc[census['workclass'] == '?'].index)\n",
    "census = census.drop(census.loc[census['native-country'] == '?'].index)"
   ]
  },
  {
   "cell_type": "code",
   "execution_count": 7,
   "id": "4e4b2031",
   "metadata": {},
   "outputs": [
    {
     "data": {
      "text/plain": [
       "(45232, 7)"
      ]
     },
     "execution_count": 7,
     "metadata": {},
     "output_type": "execute_result"
    }
   ],
   "source": [
    "## shape of the dataset after removing the null values\n",
    "census.shape"
   ]
  },
  {
   "cell_type": "code",
   "execution_count": 10,
   "id": "15aea7d1",
   "metadata": {},
   "outputs": [],
   "source": [
    "## This project will be using income as the indicator for if someone is likely to be a mid-level or high-level donor\n",
    "census['income'] = census['income'].replace({'<=50K': 'Mid-Level', '>50K': 'High-Level'})"
   ]
  },
  {
   "cell_type": "code",
   "execution_count": 9,
   "id": "80e4551f",
   "metadata": {},
   "outputs": [
    {
     "data": {
      "text/plain": [
       "Married          21641\n",
       "Never-married    14605\n",
       "Divorced          6298\n",
       "Separated         1411\n",
       "Widowed           1277\n",
       "Name: marital-status, dtype: int64"
      ]
     },
     "execution_count": 9,
     "metadata": {},
     "output_type": "execute_result"
    }
   ],
   "source": [
    "census['marital-status'] = census['marital-status'].replace({'Married-civ-spouse': 'Married', \n",
    "                                  'Married-spouse-absent': 'Married', \n",
    "                                  'Married-AF-spouse': 'Married'})\n",
    "census['marital-status'].value_counts()"
   ]
  },
  {
   "cell_type": "code",
   "execution_count": 11,
   "id": "e7417551",
   "metadata": {},
   "outputs": [
    {
     "data": {
      "text/plain": [
       "Single     23591\n",
       "Married    21641\n",
       "Name: marital-status, dtype: int64"
      ]
     },
     "execution_count": 11,
     "metadata": {},
     "output_type": "execute_result"
    }
   ],
   "source": [
    "census['marital-status'] = census['marital-status'].replace({'Never-married': 'Single', \n",
    "                                  'Divorced': 'Single','Separated': 'Single', 'Widowed': 'Single'})\n",
    "census['marital-status'].value_counts()"
   ]
  },
  {
   "cell_type": "code",
   "execution_count": 12,
   "id": "8540ccc5",
   "metadata": {},
   "outputs": [
    {
     "data": {
      "text/plain": [
       "Private       33307\n",
       "Government     6452\n",
       "Self-emp       5442\n",
       "No-income        31\n",
       "Name: workclass, dtype: int64"
      ]
     },
     "execution_count": 12,
     "metadata": {},
     "output_type": "execute_result"
    }
   ],
   "source": [
    "census['workclass'] = census['workclass'].replace({'Local-gov': 'Government', \n",
    "                                                   'Federal-gov': 'Government', \n",
    "                                                   'State-gov': 'Government',\n",
    "                                                   \n",
    "                                                   'Self-emp-not-inc': 'Self-emp',\n",
    "                                                   'Self-emp-inc': 'Self-emp',\n",
    "                                                   \n",
    "                                                   'Without-pay': 'No-income',\n",
    "                                                   'Never-worked': 'No-income',\n",
    "                                                   \n",
    "                                                   '?': 'Unknown'})\n",
    "\n",
    "census['workclass'].value_counts()"
   ]
  },
  {
   "cell_type": "code",
   "execution_count": 13,
   "id": "f1889937",
   "metadata": {},
   "outputs": [
    {
     "data": {
      "text/plain": [
       "United-States    41302\n",
       "Non-US            3930\n",
       "Name: native-country, dtype: int64"
      ]
     },
     "execution_count": 13,
     "metadata": {},
     "output_type": "execute_result"
    }
   ],
   "source": [
    "census['native-country'] = np.where((census['native-country'] != 'United-States') & \n",
    "                                    (census['native-country'] != '?'), 'Non-US', census['native-country'])\n",
    "\n",
    "census['native-country'] = census['native-country'].replace({'?': 'Unknown'})\n",
    "\n",
    "census['native-country'].value_counts()"
   ]
  },
  {
   "cell_type": "code",
   "execution_count": 14,
   "id": "76832f5f",
   "metadata": {},
   "outputs": [
    {
     "data": {
      "text/plain": [
       "HS             24686\n",
       "Bachelors       7570\n",
       "DNF HS          5667\n",
       "Assoc           3466\n",
       "Masters         2514\n",
       "Prof-school      785\n",
       "Doctorate        544\n",
       "Name: education, dtype: int64"
      ]
     },
     "execution_count": 14,
     "metadata": {},
     "output_type": "execute_result"
    }
   ],
   "source": [
    "census['education'] = census['education'].replace({'10th': 'DNF HS', \n",
    "                                                   '7th-8th': 'DNF HS', \n",
    "                                                   '9th': 'DNF HS',\n",
    "                                                   '11th': 'DNF HS', \n",
    "                                                   '9th': 'DNF HS',\n",
    "                                                   '12th': 'DNF HS', \n",
    "                                                   '5th-6th': 'DNF HS',\n",
    "                                                   '1st-4th': 'DNF HS', \n",
    "                                                   'Preschool': 'DNF HS',\n",
    "                                                  \n",
    "                                                   'HS-grad': 'HS',\n",
    "                                                   'Some-college': 'HS',\n",
    "                                                   \n",
    "                                                   'Assoc-voc': 'Assoc',\n",
    "                                                   'Assoc-acdm': 'Assoc'})\n",
    "\n",
    "census['education'].value_counts()"
   ]
  },
  {
   "cell_type": "code",
   "execution_count": 15,
   "id": "afc58114",
   "metadata": {},
   "outputs": [],
   "source": [
    "## saving a new dataframe with one hot encoding for categorical features\n",
    "census_encoded = pd.get_dummies(data=census, columns=['workclass', 'education', 'marital-status', 'sex',\n",
    "                                                     'native-country'])"
   ]
  },
  {
   "cell_type": "code",
   "execution_count": 16,
   "id": "4d9d7520",
   "metadata": {},
   "outputs": [],
   "source": [
    "## must remove one encoded column to avoid multicollinearity due to dummy variable trap\n",
    "census_encoded = census_encoded.drop(columns=['workclass_Private', 'education_HS', \n",
    "                                             'marital-status_Single', 'sex_Male',\n",
    "                                             'native-country_United-States'])"
   ]
  },
  {
   "cell_type": "code",
   "execution_count": 20,
   "id": "45f90c4a",
   "metadata": {},
   "outputs": [
    {
     "data": {
      "text/html": [
       "<div>\n",
       "<style scoped>\n",
       "    .dataframe tbody tr th:only-of-type {\n",
       "        vertical-align: middle;\n",
       "    }\n",
       "\n",
       "    .dataframe tbody tr th {\n",
       "        vertical-align: top;\n",
       "    }\n",
       "\n",
       "    .dataframe thead th {\n",
       "        text-align: right;\n",
       "    }\n",
       "</style>\n",
       "<table border=\"1\" class=\"dataframe\">\n",
       "  <thead>\n",
       "    <tr style=\"text-align: right;\">\n",
       "      <th></th>\n",
       "      <th>age</th>\n",
       "      <th>income</th>\n",
       "      <th>workclass_Government</th>\n",
       "      <th>workclass_No-income</th>\n",
       "      <th>workclass_Self-emp</th>\n",
       "      <th>education_Assoc</th>\n",
       "      <th>education_Bachelors</th>\n",
       "      <th>education_DNF HS</th>\n",
       "      <th>education_Doctorate</th>\n",
       "      <th>education_Masters</th>\n",
       "      <th>education_Prof-school</th>\n",
       "      <th>marital-status_Married</th>\n",
       "      <th>sex_Female</th>\n",
       "      <th>native-country_Non-US</th>\n",
       "    </tr>\n",
       "  </thead>\n",
       "  <tbody>\n",
       "    <tr>\n",
       "      <th>0</th>\n",
       "      <td>25</td>\n",
       "      <td>Mid-Level</td>\n",
       "      <td>0</td>\n",
       "      <td>0</td>\n",
       "      <td>0</td>\n",
       "      <td>0</td>\n",
       "      <td>0</td>\n",
       "      <td>1</td>\n",
       "      <td>0</td>\n",
       "      <td>0</td>\n",
       "      <td>0</td>\n",
       "      <td>0</td>\n",
       "      <td>0</td>\n",
       "      <td>0</td>\n",
       "    </tr>\n",
       "    <tr>\n",
       "      <th>1</th>\n",
       "      <td>38</td>\n",
       "      <td>Mid-Level</td>\n",
       "      <td>0</td>\n",
       "      <td>0</td>\n",
       "      <td>0</td>\n",
       "      <td>0</td>\n",
       "      <td>0</td>\n",
       "      <td>0</td>\n",
       "      <td>0</td>\n",
       "      <td>0</td>\n",
       "      <td>0</td>\n",
       "      <td>1</td>\n",
       "      <td>0</td>\n",
       "      <td>0</td>\n",
       "    </tr>\n",
       "    <tr>\n",
       "      <th>2</th>\n",
       "      <td>28</td>\n",
       "      <td>High-Level</td>\n",
       "      <td>1</td>\n",
       "      <td>0</td>\n",
       "      <td>0</td>\n",
       "      <td>1</td>\n",
       "      <td>0</td>\n",
       "      <td>0</td>\n",
       "      <td>0</td>\n",
       "      <td>0</td>\n",
       "      <td>0</td>\n",
       "      <td>1</td>\n",
       "      <td>0</td>\n",
       "      <td>0</td>\n",
       "    </tr>\n",
       "    <tr>\n",
       "      <th>3</th>\n",
       "      <td>44</td>\n",
       "      <td>High-Level</td>\n",
       "      <td>0</td>\n",
       "      <td>0</td>\n",
       "      <td>0</td>\n",
       "      <td>0</td>\n",
       "      <td>0</td>\n",
       "      <td>0</td>\n",
       "      <td>0</td>\n",
       "      <td>0</td>\n",
       "      <td>0</td>\n",
       "      <td>1</td>\n",
       "      <td>0</td>\n",
       "      <td>0</td>\n",
       "    </tr>\n",
       "    <tr>\n",
       "      <th>5</th>\n",
       "      <td>34</td>\n",
       "      <td>Mid-Level</td>\n",
       "      <td>0</td>\n",
       "      <td>0</td>\n",
       "      <td>0</td>\n",
       "      <td>0</td>\n",
       "      <td>0</td>\n",
       "      <td>1</td>\n",
       "      <td>0</td>\n",
       "      <td>0</td>\n",
       "      <td>0</td>\n",
       "      <td>0</td>\n",
       "      <td>0</td>\n",
       "      <td>0</td>\n",
       "    </tr>\n",
       "  </tbody>\n",
       "</table>\n",
       "</div>"
      ],
      "text/plain": [
       "   age      income  workclass_Government  workclass_No-income  \\\n",
       "0   25   Mid-Level                     0                    0   \n",
       "1   38   Mid-Level                     0                    0   \n",
       "2   28  High-Level                     1                    0   \n",
       "3   44  High-Level                     0                    0   \n",
       "5   34   Mid-Level                     0                    0   \n",
       "\n",
       "   workclass_Self-emp  education_Assoc  education_Bachelors  education_DNF HS  \\\n",
       "0                   0                0                    0                 1   \n",
       "1                   0                0                    0                 0   \n",
       "2                   0                1                    0                 0   \n",
       "3                   0                0                    0                 0   \n",
       "5                   0                0                    0                 1   \n",
       "\n",
       "   education_Doctorate  education_Masters  education_Prof-school  \\\n",
       "0                    0                  0                      0   \n",
       "1                    0                  0                      0   \n",
       "2                    0                  0                      0   \n",
       "3                    0                  0                      0   \n",
       "5                    0                  0                      0   \n",
       "\n",
       "   marital-status_Married  sex_Female  native-country_Non-US  \n",
       "0                       0           0                      0  \n",
       "1                       1           0                      0  \n",
       "2                       1           0                      0  \n",
       "3                       1           0                      0  \n",
       "5                       0           0                      0  "
      ]
     },
     "execution_count": 20,
     "metadata": {},
     "output_type": "execute_result"
    }
   ],
   "source": [
    "census_encoded.head()"
   ]
  },
  {
   "cell_type": "code",
   "execution_count": 17,
   "id": "e19662d3",
   "metadata": {},
   "outputs": [],
   "source": [
    "train, test = train_test_split(census_encoded, test_size=0.2, random_state=42, stratify=census_encoded['income'])"
   ]
  },
  {
   "cell_type": "code",
   "execution_count": 18,
   "id": "2583ada7",
   "metadata": {},
   "outputs": [
    {
     "data": {
      "text/plain": [
       "(36185, 14)"
      ]
     },
     "execution_count": 18,
     "metadata": {},
     "output_type": "execute_result"
    }
   ],
   "source": [
    "train.shape"
   ]
  },
  {
   "cell_type": "code",
   "execution_count": 19,
   "id": "564d7cfa",
   "metadata": {},
   "outputs": [
    {
     "data": {
      "text/plain": [
       "(9047, 14)"
      ]
     },
     "execution_count": 19,
     "metadata": {},
     "output_type": "execute_result"
    }
   ],
   "source": [
    "test.shape"
   ]
  },
  {
   "cell_type": "markdown",
   "id": "be41406e",
   "metadata": {},
   "source": [
    "## Modeling"
   ]
  },
  {
   "cell_type": "code",
   "execution_count": 40,
   "id": "f11a488f",
   "metadata": {},
   "outputs": [],
   "source": [
    "classes = ['high-level', 'mid-level']"
   ]
  },
  {
   "cell_type": "code",
   "execution_count": 21,
   "id": "12796103",
   "metadata": {},
   "outputs": [],
   "source": [
    "census_X = census_encoded.drop(columns=['income'])"
   ]
  },
  {
   "cell_type": "code",
   "execution_count": 28,
   "id": "2a0d572d",
   "metadata": {},
   "outputs": [],
   "source": [
    "census_y = census_encoded['income']"
   ]
  },
  {
   "cell_type": "code",
   "execution_count": 49,
   "id": "4c7bb107",
   "metadata": {},
   "outputs": [],
   "source": [
    "X_train, X_test, y_train, y_test = train_test_split(census_X, census_y,\n",
    "                                                     stratify=census_y, \n",
    "                                                     test_size=0.2, random_state =1)"
   ]
  },
  {
   "cell_type": "code",
   "execution_count": 52,
   "id": "e01c5e92",
   "metadata": {},
   "outputs": [
    {
     "name": "stdout",
     "output_type": "stream",
     "text": [
      "Shape of training features: (36185, 13)\n",
      "Shape of testing features: (9047, 13)\n",
      "Shape of training label: (36185,)\n",
      "Shape of training label: (9047,)\n"
     ]
    }
   ],
   "source": [
    "print('Shape of training features:', X_train.shape)\n",
    "print('Shape of testing features:', X_test.shape)\n",
    "print('Shape of training label:', y_train.shape)\n",
    "print('Shape of training label:', y_test.shape)"
   ]
  },
  {
   "cell_type": "markdown",
   "id": "56b12be5",
   "metadata": {},
   "source": [
    "### Logistic Regression"
   ]
  },
  {
   "cell_type": "code",
   "execution_count": 51,
   "id": "ddb639c7",
   "metadata": {},
   "outputs": [
    {
     "name": "stdout",
     "output_type": "stream",
     "text": [
      "intercept  3.6076584657697706 \n",
      "\n",
      "         age  workclass_Government  workclass_No-income  workclass_Self-emp  education_Assoc  \\\n",
      "coeff -0.024                -0.004                0.086               0.062           -0.439   \n",
      "\n",
      "       education_Bachelors  education_DNF HS  education_Doctorate  education_Masters  \\\n",
      "coeff               -1.273             1.338               -1.806             -1.702   \n",
      "\n",
      "       education_Prof-school  marital-status_Married  sex_Female  native-country_Non-US  \n",
      "coeff                 -2.095                  -2.106       0.415                  0.398  \n",
      "Confusion Matrix (Accuracy 0.8122)\n",
      "\n",
      "           Prediction\n",
      "    Actual high-level  mid-level\n",
      "high-level       3923       5043\n",
      " mid-level       1752      25467\n"
     ]
    }
   ],
   "source": [
    "logit_regCV = LogisticRegressionCV(solver='liblinear', cv=5)\n",
    "logit_regCV.fit(X_train, y_train)\n",
    "\n",
    "pd.set_option('display.width', 95)\n",
    "pd.set_option('display.precision',3)\n",
    "pd.set_option('display.max_columns', 33)\n",
    "print('intercept ', logit_regCV.intercept_[0], '\\n')\n",
    "\n",
    "# could use display() to present this cleaner, but for illustration, leaving as-is\n",
    "print(pd.DataFrame({'coeff': logit_regCV.coef_[0]}, index=census_X.columns).transpose())\n",
    "\n",
    "pd.reset_option('display.width')\n",
    "pd.reset_option('display.precision')\n",
    "pd.reset_option('display.max_columns')\n",
    "\n",
    "# confusion matrix\n",
    "classificationSummary(y_train, logit_regCV.predict(X_train), class_names=classes)"
   ]
  },
  {
   "cell_type": "code",
   "execution_count": 50,
   "id": "6696eede",
   "metadata": {},
   "outputs": [
    {
     "name": "stdout",
     "output_type": "stream",
     "text": [
      "Confusion Matrix : \n",
      " [[ 963 1279]\n",
      " [ 473 6332]]\n",
      "Accuracy :  0.8063446446335802\n"
     ]
    }
   ],
   "source": [
    "y_pred = logit_regCV.predict(X_test)\n",
    "cm = confusion_matrix(y_test, y_pred)\n",
    "print (\"Confusion Matrix : \\n\", cm)\n",
    "print (\"Accuracy : \", accuracy_score(y_test, y_pred))"
   ]
  },
  {
   "cell_type": "markdown",
   "id": "94692175",
   "metadata": {},
   "source": [
    "### Decision Tree"
   ]
  },
  {
   "cell_type": "code",
   "execution_count": 53,
   "id": "cbd12e54",
   "metadata": {},
   "outputs": [
    {
     "data": {
      "text/plain": [
       "DecisionTreeClassifier(random_state=1)"
      ]
     },
     "execution_count": 53,
     "metadata": {},
     "output_type": "execute_result"
    }
   ],
   "source": [
    "# Building Decision Tree model \n",
    "dtc = tree.DecisionTreeClassifier(random_state=1)\n",
    "dtc.fit(X_train, y_train)"
   ]
  },
  {
   "cell_type": "code",
   "execution_count": 54,
   "id": "2a3550eb",
   "metadata": {},
   "outputs": [
    {
     "name": "stdout",
     "output_type": "stream",
     "text": [
      "Confusion Matrix : \n",
      " [[1151 1091]\n",
      " [ 727 6078]]\n",
      "Accuracy :  0.7990494086437493\n"
     ]
    }
   ],
   "source": [
    "y_pred = dtc.predict(X_test)\n",
    "cm = confusion_matrix(y_test, y_pred)\n",
    "print (\"Confusion Matrix : \\n\", cm)\n",
    "print (\"Accuracy : \", accuracy_score(y_test, y_pred))"
   ]
  },
  {
   "cell_type": "markdown",
   "id": "ae57f7fa",
   "metadata": {},
   "source": [
    "### Random Forest"
   ]
  },
  {
   "cell_type": "code",
   "execution_count": 56,
   "id": "46af1d91",
   "metadata": {},
   "outputs": [
    {
     "data": {
      "text/plain": [
       "RandomForestClassifier(random_state=1)"
      ]
     },
     "execution_count": 56,
     "metadata": {},
     "output_type": "execute_result"
    }
   ],
   "source": [
    "# Building Random Forest model \n",
    "rf = RandomForestClassifier(random_state=1)\n",
    "rf.fit(X_train, y_train)"
   ]
  },
  {
   "cell_type": "code",
   "execution_count": 57,
   "id": "79f26c4c",
   "metadata": {},
   "outputs": [
    {
     "name": "stdout",
     "output_type": "stream",
     "text": [
      "Confusion Matrix : \n",
      " [[1092 1150]\n",
      " [ 644 6161]]\n",
      "Accuracy :  0.8017022217309605\n"
     ]
    }
   ],
   "source": [
    "y_pred = rf.predict(X_test)\n",
    "cm = confusion_matrix(y_test, y_pred)\n",
    "print (\"Confusion Matrix : \\n\", cm)\n",
    "print (\"Accuracy : \", accuracy_score(y_test, y_pred))"
   ]
  },
  {
   "cell_type": "markdown",
   "id": "2e7bde63",
   "metadata": {},
   "source": [
    "### Naive Bayes"
   ]
  },
  {
   "cell_type": "code",
   "execution_count": 58,
   "id": "cc47bc23",
   "metadata": {},
   "outputs": [
    {
     "data": {
      "text/plain": [
       "GaussianNB()"
      ]
     },
     "execution_count": 58,
     "metadata": {},
     "output_type": "execute_result"
    }
   ],
   "source": [
    "# Building Naive Bayes model \n",
    "nb = GaussianNB()\n",
    "nb.fit(X_train, y_train)"
   ]
  },
  {
   "cell_type": "code",
   "execution_count": 59,
   "id": "11d027d1",
   "metadata": {},
   "outputs": [
    {
     "name": "stdout",
     "output_type": "stream",
     "text": [
      "Confusion Matrix : \n",
      " [[1108 1134]\n",
      " [ 818 5987]]\n",
      "Accuracy :  0.7842378689068199\n"
     ]
    }
   ],
   "source": [
    "y_pred = nb.predict(X_test)\n",
    "cm = confusion_matrix(y_test, y_pred)\n",
    "print (\"Confusion Matrix : \\n\", cm)\n",
    "print (\"Accuracy : \", accuracy_score(y_test, y_pred))"
   ]
  },
  {
   "cell_type": "markdown",
   "id": "d5c50dbf",
   "metadata": {},
   "source": [
    "### KNN"
   ]
  },
  {
   "cell_type": "code",
   "execution_count": 60,
   "id": "4e11fc13",
   "metadata": {},
   "outputs": [
    {
     "data": {
      "text/plain": [
       "KNeighborsClassifier()"
      ]
     },
     "execution_count": 60,
     "metadata": {},
     "output_type": "execute_result"
    }
   ],
   "source": [
    "# Building KNN model \n",
    "knn = KNeighborsClassifier()\n",
    "knn.fit(X_train, y_train)"
   ]
  },
  {
   "cell_type": "code",
   "execution_count": 61,
   "id": "196f365b",
   "metadata": {},
   "outputs": [
    {
     "name": "stdout",
     "output_type": "stream",
     "text": [
      "Confusion Matrix : \n",
      " [[1113 1129]\n",
      " [ 742 6063]]\n",
      "Accuracy :  0.7931911130761579\n"
     ]
    },
    {
     "name": "stderr",
     "output_type": "stream",
     "text": [
      "C:\\Users\\maha.jayapal\\Anaconda3\\lib\\site-packages\\sklearn\\neighbors\\_classification.py:228: FutureWarning: Unlike other reduction functions (e.g. `skew`, `kurtosis`), the default behavior of `mode` typically preserves the axis it acts along. In SciPy 1.11.0, this behavior will change: the default value of `keepdims` will become False, the `axis` over which the statistic is taken will be eliminated, and the value None will no longer be accepted. Set `keepdims` to True or False to avoid this warning.\n",
      "  mode, _ = stats.mode(_y[neigh_ind, k], axis=1)\n"
     ]
    }
   ],
   "source": [
    "y_pred = knn.predict(X_test)\n",
    "cm = confusion_matrix(y_test, y_pred)\n",
    "print (\"Confusion Matrix : \\n\", cm)\n",
    "print (\"Accuracy : \", accuracy_score(y_test, y_pred))"
   ]
  },
  {
   "cell_type": "code",
   "execution_count": null,
   "id": "ec30003b",
   "metadata": {},
   "outputs": [],
   "source": []
  },
  {
   "cell_type": "code",
   "execution_count": null,
   "id": "113b363d",
   "metadata": {},
   "outputs": [],
   "source": []
  },
  {
   "cell_type": "code",
   "execution_count": null,
   "id": "bb0cbd1a",
   "metadata": {},
   "outputs": [],
   "source": []
  },
  {
   "cell_type": "code",
   "execution_count": null,
   "id": "bdafceba",
   "metadata": {},
   "outputs": [],
   "source": []
  },
  {
   "cell_type": "code",
   "execution_count": null,
   "id": "c9db2082",
   "metadata": {},
   "outputs": [],
   "source": []
  },
  {
   "cell_type": "code",
   "execution_count": null,
   "id": "a6cbfec6",
   "metadata": {},
   "outputs": [],
   "source": []
  },
  {
   "cell_type": "code",
   "execution_count": null,
   "id": "f09a1467",
   "metadata": {},
   "outputs": [],
   "source": []
  },
  {
   "cell_type": "code",
   "execution_count": null,
   "id": "f1ecc45a",
   "metadata": {},
   "outputs": [],
   "source": []
  },
  {
   "cell_type": "code",
   "execution_count": null,
   "id": "b603d4a5",
   "metadata": {},
   "outputs": [],
   "source": []
  },
  {
   "cell_type": "code",
   "execution_count": null,
   "id": "39d50884",
   "metadata": {},
   "outputs": [],
   "source": []
  },
  {
   "cell_type": "code",
   "execution_count": null,
   "id": "03724206",
   "metadata": {},
   "outputs": [],
   "source": []
  },
  {
   "cell_type": "code",
   "execution_count": null,
   "id": "e6234e3b",
   "metadata": {},
   "outputs": [],
   "source": []
  },
  {
   "cell_type": "code",
   "execution_count": null,
   "id": "f7b5a44a",
   "metadata": {},
   "outputs": [],
   "source": []
  },
  {
   "cell_type": "code",
   "execution_count": null,
   "id": "c902c39a",
   "metadata": {},
   "outputs": [],
   "source": []
  },
  {
   "cell_type": "code",
   "execution_count": null,
   "id": "3d152ea2",
   "metadata": {},
   "outputs": [],
   "source": []
  },
  {
   "cell_type": "code",
   "execution_count": null,
   "id": "e8629f97",
   "metadata": {},
   "outputs": [],
   "source": []
  },
  {
   "cell_type": "code",
   "execution_count": null,
   "id": "9e219fc5",
   "metadata": {},
   "outputs": [],
   "source": []
  },
  {
   "cell_type": "code",
   "execution_count": null,
   "id": "83553645",
   "metadata": {},
   "outputs": [],
   "source": []
  }
 ],
 "metadata": {
  "kernelspec": {
   "display_name": "Python 3 (ipykernel)",
   "language": "python",
   "name": "python3"
  },
  "language_info": {
   "codemirror_mode": {
    "name": "ipython",
    "version": 3
   },
   "file_extension": ".py",
   "mimetype": "text/x-python",
   "name": "python",
   "nbconvert_exporter": "python",
   "pygments_lexer": "ipython3",
   "version": "3.9.13"
  }
 },
 "nbformat": 4,
 "nbformat_minor": 5
}
